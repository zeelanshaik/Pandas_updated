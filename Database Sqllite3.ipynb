{
 "cells": [
  {
   "cell_type": "markdown",
   "metadata": {},
   "source": [
    "# SQLite\n",
    "is a server-less database that can be used within almost all programming languages including Python. Server-less means there is no need to install a separate server to work with SQLite so you can connect directly with the database."
   ]
  },
  {
   "cell_type": "markdown",
   "metadata": {},
   "source": [
    "SQLite is a lightweight database that can provide a relational database management system with zero-configuration because there is no need to configure or setup anything to use it.\n",
    "\n",
    "When you connect to an SQLite database file that does not exist, SQLite automatically creates the new database for you."
   ]
  },
  {
   "cell_type": "code",
   "execution_count": 1,
   "metadata": {},
   "outputs": [
    {
     "data": {
      "text/plain": [
       "'C:\\\\Users\\\\hcluser1'"
      ]
     },
     "execution_count": 1,
     "metadata": {},
     "output_type": "execute_result"
    }
   ],
   "source": [
    "import os\n",
    "\n",
    "# Get the current working directory\n",
    "cwd = os.getcwd()\n",
    "cwd"
   ]
  },
  {
   "cell_type": "code",
   "execution_count": 2,
   "metadata": {},
   "outputs": [],
   "source": [
    "#Create Connection\n",
    "import sqlite3\n",
    "con = sqlite3.connect('asda_python_train_db.db')"
   ]
  },
  {
   "cell_type": "markdown",
   "metadata": {},
   "source": [
    "# SQLite3 Cursor\n",
    "To execute SQLite statements in Python, you need a cursor object. You can create it using the cursor() method."
   ]
  },
  {
   "cell_type": "code",
   "execution_count": 11,
   "metadata": {},
   "outputs": [],
   "source": [
    "cursorObj = con.cursor()"
   ]
  },
  {
   "cell_type": "markdown",
   "metadata": {},
   "source": [
    "# Create Database\n",
    "When you create a connection with SQLite, a database file is automatically created if it doesn’t already exist. This database file is created on disk, we can also create a database in RAM by using"
   ]
  },
  {
   "cell_type": "code",
   "execution_count": 4,
   "metadata": {},
   "outputs": [
    {
     "ename": "SyntaxError",
     "evalue": "invalid syntax (<ipython-input-4-44673cc6149d>, line 1)",
     "output_type": "error",
     "traceback": [
      "\u001b[1;36m  File \u001b[1;32m\"<ipython-input-4-44673cc6149d>\"\u001b[1;36m, line \u001b[1;32m1\u001b[0m\n\u001b[1;33m    :memory:#with the connect function. This database is called in-memory database.\u001b[0m\n\u001b[1;37m    ^\u001b[0m\n\u001b[1;31mSyntaxError\u001b[0m\u001b[1;31m:\u001b[0m invalid syntax\n"
     ]
    }
   ],
   "source": [
    ":memory:#with the connect function. This database is called in-memory database."
   ]
  },
  {
   "cell_type": "code",
   "execution_count": 3,
   "metadata": {},
   "outputs": [],
   "source": [
    "import sqlite3\n",
    "\n",
    "from sqlite3 import Error\n",
    "\n",
    "def sql_connection():\n",
    "\n",
    "    try:\n",
    "\n",
    "        con = sqlite3.connect(':memory:')\n",
    "\n",
    "        print(\"Connection is established: De is created in memory\")\n",
    "\n",
    "    except Error:\n",
    "\n",
    "        print(Error)\n",
    "\n",
    "    finally:\n",
    "\n",
    "        con.close()"
   ]
  },
  {
   "cell_type": "code",
   "execution_count": 4,
   "metadata": {},
   "outputs": [
    {
     "name": "stdout",
     "output_type": "stream",
     "text": [
      "Connection is established: De is created in memory\n"
     ]
    }
   ],
   "source": [
    "sql_connection()"
   ]
  },
  {
   "cell_type": "code",
   "execution_count": 5,
   "metadata": {},
   "outputs": [],
   "source": [
    "import sqlite3\n",
    "\n",
    "from sqlite3 import Error\n",
    "\n",
    "def sql_connection():\n",
    "\n",
    "    try:\n",
    "\n",
    "        con = sqlite3.connect('asda_python_train_db.db')\n",
    "\n",
    "        return con\n",
    "\n",
    "    except Error:\n",
    "\n",
    "        print(Error)\n",
    "\n",
    "def sql_table(con):\n",
    "\n",
    "    cursorObj = con.cursor()\n",
    "\n",
    "    cursorObj.execute(\"CREATE TABLE employees(id integer PRIMARY KEY, name text, salary real, department text, position text, hireDate text)\")\n",
    "\n",
    "    con.commit()\n",
    "\n",
    "con = sql_connection()\n",
    "\n",
    "sql_table(con)"
   ]
  },
  {
   "cell_type": "code",
   "execution_count": 7,
   "metadata": {},
   "outputs": [
    {
     "ename": "NameError",
     "evalue": "name 'cursorObj' is not defined",
     "output_type": "error",
     "traceback": [
      "\u001b[1;31m---------------------------------------------------------------------------\u001b[0m",
      "\u001b[1;31mNameError\u001b[0m                                 Traceback (most recent call last)",
      "\u001b[1;32m<ipython-input-7-52a999283d6e>\u001b[0m in \u001b[0;36m<module>\u001b[1;34m\u001b[0m\n\u001b[1;32m----> 1\u001b[1;33m \u001b[0mcursorObj\u001b[0m\u001b[1;33m.\u001b[0m\u001b[0mexecute\u001b[0m\u001b[1;33m(\u001b[0m\u001b[1;34m'SELECT * FROM employees '\u001b[0m\u001b[1;33m)\u001b[0m\u001b[1;33m\u001b[0m\u001b[1;33m\u001b[0m\u001b[0m\n\u001b[0m",
      "\u001b[1;31mNameError\u001b[0m: name 'cursorObj' is not defined"
     ]
    }
   ],
   "source": [
    "cursorObj.execute('SELECT * FROM employees ')"
   ]
  },
  {
   "cell_type": "code",
   "execution_count": 10,
   "metadata": {},
   "outputs": [
    {
     "name": "stdout",
     "output_type": "stream",
     "text": [
      "(2, 'Andrew', 800.0, 'IT', 'Tech', '2018-02-06')\n"
     ]
    }
   ],
   "source": [
    "import sqlite3\n",
    "\n",
    "con = sqlite3.connect('asda_python_train_db.db')\n",
    "\n",
    "def sql_fetch(con):\n",
    "\n",
    "    cursorObj = con.cursor()\n",
    "\n",
    "    cursorObj.execute('SELECT * FROM employees')\n",
    "\n",
    "    rows = cursorObj.fetchall()\n",
    "\n",
    "    for row in rows:\n",
    "\n",
    "        print(row)\n",
    "\n",
    "sql_fetch(con)"
   ]
  },
  {
   "cell_type": "code",
   "execution_count": 27,
   "metadata": {},
   "outputs": [
    {
     "name": "stdout",
     "output_type": "stream",
     "text": [
      "Opened database successfully\n",
      "Table created successfully\n"
     ]
    }
   ],
   "source": [
    "#Create Table\n",
    "\n",
    "import sqlite3\n",
    "\n",
    "conn = sqlite3.connect('mydatabase2.db')\n",
    "print (\"Opened database successfully\")\n",
    "\n",
    "conn.execute('''CREATE TABLE EMPLOYEE\n",
    "         (ID INT PRIMARY KEY     NOT NULL,\n",
    "         NAME           TEXT    NOT NULL,\n",
    "         AGE            INT     NOT NULL,\n",
    "         ADDRESS        CHAR(50),\n",
    "         SALARY         REAL);''')\n",
    "print (\"Table created successfully\")\n",
    "\n",
    "conn.close()"
   ]
  },
  {
   "cell_type": "code",
   "execution_count": null,
   "metadata": {},
   "outputs": [],
   "source": [
    "import sqlite3\n",
    "\n",
    "conn = sqlite3.connect('mydatabase1.db')\n",
    "print (\"Opened database successfully\")\n",
    "\n",
    "conn.execute(\"INSERT INTO EMPLOYEE(ID,NAME,AGE,ADDRESS,SALARY) \\\n",
    "      VALUES (1, 'Paul', 32, 'California', 20000.00 )\");\n",
    "\n",
    "conn.execute(\"INSERT INTO EMPLOYEE (ID,NAME,AGE,ADDRESS,SALARY) \\\n",
    "      VALUES (2, 'Allen', 25, 'Texas', 15000.00 )\");\n",
    "\n",
    "conn.execute(\"INSERT INTO EMPLOYEE (ID,NAME,AGE,ADDRESS,SALARY) \\\n",
    "      VALUES (3, 'Teddy', 23, 'Norway', 20000.00 )\");\n",
    "\n",
    "conn.execute(\"INSERT INTO EMPLOYEE (ID,NAME,AGE,ADDRESS,SALARY) \\\n",
    "      VALUES (4, 'Mark', 25, 'Rich-Mond ', 65000.00 )\");\n",
    "\n",
    "conn.commit()\n",
    "print (\"Records created successfully\")\n",
    "conn.close()"
   ]
  },
  {
   "cell_type": "markdown",
   "metadata": {},
   "source": [
    "# SQLite3 Exceptions\n",
    "Exceptions are the run time errors. In Python programming, all exceptions are the instances of the class derived from the BaseException.\n",
    "\n",
    "In SQLite3, we have the following main Python exceptions:\n",
    "\n",
    "##DatabaseError\n",
    "Any error related to database raises the DatabaseError.\n",
    "\n",
    "##IntegrityError\n",
    "IntegrityError is a subclass of DatabaseError and is raised when there is a data integrity issue, for example,e foreign data isn’t updated in all tables resulting in the inconsistency of the data.\n",
    "\n",
    "##ProgrammingError\n",
    "The exception ProgrammingError raises when there are syntax errors or table is not found or function is called with the wrong number of parameters/ arguments.\n",
    "\n",
    "##OperationalError\n",
    "This exception is raised when the database operations are failed, for example, unusual disconnection. This is not the fault of the programmers.\n",
    "\n",
    "##NotSupportedError\n",
    "When you use some methods that aren’t defined or supported by database NotSupportedError exception is raised."
   ]
  },
  {
   "cell_type": "markdown",
   "metadata": {},
   "source": [
    "# SQLite3 datetime\n",
    "In Python SQLite3 database, we can easily store date or time by importing the datatime module. The following formats are the most commonly used formats for datetime:"
   ]
  },
  {
   "cell_type": "code",
   "execution_count": null,
   "metadata": {},
   "outputs": [],
   "source": [
    "import sqlite3\n",
    "\n",
    "import datetime\n",
    "\n",
    "con = sqlite3.connect('mydatabase1.db')\n",
    "\n",
    "cursorObj = con.cursor()\n",
    "\n",
    "cursorObj.execute('create table if not exists assignments1(id integer, name text, date date)')\n",
    "\n",
    "data = [(1, \"Ridesharing\", datetime.date(2017, 1, 2)), (2, \"Water Purifying\", datetime.date(2018, 3, 4))]\n",
    "\n",
    "cursorObj.executemany(\"INSERT INTO assignments1 VALUES(?, ?, ?)\", data)\n",
    "\n",
    "con.commit()"
   ]
  },
  {
   "cell_type": "markdown",
   "metadata": {},
   "source": [
    "# Python sqlite3 module APIs\n",
    "Following are important sqlite3 module routines, which can suffice your requirement to work with SQLite database from your Python program. If you are looking for a more sophisticated application, then you can look into Python sqlite3 module's official documentation.\n",
    "\n",
    "Sr.No.\tAPI & Description\n",
    "1\t\n",
    "sqlite3.connect(database [,timeout ,other optional arguments])\n",
    "\n",
    "This API opens a connection to the SQLite database file. You can use \":memory:\" to open a database connection to a database that resides in RAM instead of on disk. If database is opened successfully, it returns a connection object.\n",
    "\n",
    "When a database is accessed by multiple connections, and one of the processes modifies the database, the SQLite database is locked until that transaction is committed. The timeout parameter specifies how long the connection should wait for the lock to go away until raising an exception. The default for the timeout parameter is 5.0 (five seconds).\n",
    "\n",
    "If the given database name does not exist then this call will create the database. You can specify filename with the required path as well if you want to create a database anywhere else except in the current directory.\n",
    "\n",
    "2\t\n",
    "connection.cursor([cursorClass])\n",
    "\n",
    "This routine creates a cursor which will be used throughout of your database programming with Python. This method accepts a single optional parameter cursorClass. If supplied, this must be a custom cursor class that extends sqlite3.Cursor.\n",
    "\n",
    "3\t\n",
    "cursor.execute(sql [, optional parameters])\n",
    "\n",
    "This routine executes an SQL statement. The SQL statement may be parameterized (i. e. placeholders instead of SQL literals). The sqlite3 module supports two kinds of placeholders: question marks and named placeholders (named style).\n",
    "\n",
    "For example − cursor.execute(\"insert into people values (?, ?)\", (who, age))\n",
    "\n",
    "4\t\n",
    "connection.execute(sql [, optional parameters])\n",
    "\n",
    "This routine is a shortcut of the above execute method provided by the cursor object and it creates an intermediate cursor object by calling the cursor method, then calls the cursor's execute method with the parameters given.\n",
    "\n",
    "5\t\n",
    "cursor.executemany(sql, seq_of_parameters)\n",
    "\n",
    "This routine executes an SQL command against all parameter sequences or mappings found in the sequence sql.\n",
    "\n",
    "6\t\n",
    "connection.executemany(sql[, parameters])\n",
    "\n",
    "This routine is a shortcut that creates an intermediate cursor object by calling the cursor method, then calls the cursor.s executemany method with the parameters given.\n",
    "\n",
    "7\t\n",
    "cursor.executescript(sql_script)\n",
    "\n",
    "This routine executes multiple SQL statements at once provided in the form of script. It issues a COMMIT statement first, then executes the SQL script it gets as a parameter. All the SQL statements should be separated by a semi colon (;).\n",
    "\n",
    "8\t\n",
    "connection.executescript(sql_script)\n",
    "\n",
    "This routine is a shortcut that creates an intermediate cursor object by calling the cursor method, then calls the cursor's executescript method with the parameters given.\n",
    "\n",
    "9\t\n",
    "connection.total_changes()\n",
    "\n",
    "This routine returns the total number of database rows that have been modified, inserted, or deleted since the database connection was opened.\n",
    "\n",
    "10\t\n",
    "connection.commit()\n",
    "\n",
    "This method commits the current transaction. If you don't call this method, anything you did since the last call to commit() is not visible from other database connections.\n",
    "\n",
    "11\t\n",
    "connection.rollback()\n",
    "\n",
    "This method rolls back any changes to the database since the last call to commit().\n",
    "\n",
    "12\t\n",
    "connection.close()\n",
    "\n",
    "This method closes the database connection. Note that this does not automatically call commit(). If you just close your database connection without calling commit() first, your changes will be lost!\n",
    "\n",
    "13\t\n",
    "cursor.fetchone()\n",
    "\n",
    "This method fetches the next row of a query result set, returning a single sequence, or None when no more data is available.\n",
    "\n",
    "14\t\n",
    "cursor.fetchmany([size = cursor.arraysize])\n",
    "\n",
    "This routine fetches the next set of rows of a query result, returning a list. An empty list is returned when no more rows are available. The method tries to fetch as many rows as indicated by the size parameter.\n",
    "\n",
    "15\t\n",
    "cursor.fetchall()\n",
    "\n",
    "This routine fetches all (remaining) rows of a query result, returning a list. An empty list is returned when no rows are available."
   ]
  },
  {
   "cell_type": "code",
   "execution_count": null,
   "metadata": {},
   "outputs": [],
   "source": []
  }
 ],
 "metadata": {
  "kernelspec": {
   "display_name": "Python 3",
   "language": "python",
   "name": "python3"
  },
  "language_info": {
   "codemirror_mode": {
    "name": "ipython",
    "version": 3
   },
   "file_extension": ".py",
   "mimetype": "text/x-python",
   "name": "python",
   "nbconvert_exporter": "python",
   "pygments_lexer": "ipython3",
   "version": "3.7.3"
  }
 },
 "nbformat": 4,
 "nbformat_minor": 2
}
