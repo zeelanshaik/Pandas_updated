{
 "cells": [
  {
   "cell_type": "markdown",
   "metadata": {},
   "source": [
    "# Use Case  –  Loan Approval \n",
    "\n",
    "       a)\tCreate a data frame  with  all Male customers, who are not graduates , whose loan is approved  \n",
    "               and also get the Annual income and age of those customers\n",
    "        \n",
    "       b)    Final  Index  should be on Loan_ID\n",
    "    \n",
    "       c)    Impute missing values with appropriate measure use forward fill/backward fill/Generic\n",
    "       \n",
    "       d)    Let’s calculate the average spending score by Gender\n",
    "            \n",
    "       e)    Let’s calculate the average and total Loanamount by Property_Area .\n",
    "        \n",
    "       d)   Load back this data frame into excel with name Processed Loan\n",
    "\n",
    "\n"
   ]
  },
  {
   "cell_type": "code",
   "execution_count": 18,
   "metadata": {},
   "outputs": [
    {
     "name": "stdout",
     "output_type": "stream",
     "text": [
      "Customer File is read succesful\n",
      "Loan File is read successful\n"
     ]
    }
   ],
   "source": [
    "import pandas as pd\n",
    "import numpy as np\n",
    "\n",
    "\n",
    "try:\n",
    "    customer = pd.read_csv(\"C:\\Focus Training\\Training\\Customers.csv\")\n",
    "    print(\"Customer File is read succesful\")\n",
    "except:\n",
    "    print(\"Customer Data Load Failure\")\n",
    "try:\n",
    "    Loan = pd.read_csv(\"C:\\Focus Training\\Training\\Loans.csv\")\n",
    "    print(\"Loan File is read successful\")\n",
    "except:\n",
    "    print(\"Loan Data Load Failure\")\n",
    "    \n",
    "    "
   ]
  },
  {
   "cell_type": "code",
   "execution_count": 36,
   "metadata": {},
   "outputs": [
    {
     "name": "stdout",
     "output_type": "stream",
     "text": [
      "     Loan_ID  Gender  Married  Dependents  Education  Self_Employed  \\\n",
      "0      False   False    False       False      False          False   \n",
      "1      False   False    False       False      False          False   \n",
      "2      False   False    False       False      False          False   \n",
      "3      False   False    False       False      False          False   \n",
      "4      False   False    False       False      False          False   \n",
      "..       ...     ...      ...         ...        ...            ...   \n",
      "609    False   False    False       False      False          False   \n",
      "610    False   False    False       False      False          False   \n",
      "611    False   False    False       False      False          False   \n",
      "612    False   False    False       False      False          False   \n",
      "613    False   False    False       False      False          False   \n",
      "\n",
      "     ApplicantIncome  CoapplicantIncome  LoanAmount  Loan_Amount_Term  \\\n",
      "0              False              False        True             False   \n",
      "1              False              False       False             False   \n",
      "2              False              False       False             False   \n",
      "3              False              False       False             False   \n",
      "4              False              False       False             False   \n",
      "..               ...                ...         ...               ...   \n",
      "609            False              False       False             False   \n",
      "610            False              False       False             False   \n",
      "611            False              False       False             False   \n",
      "612            False              False       False             False   \n",
      "613            False              False       False             False   \n",
      "\n",
      "     Credit_History  Property_Area  Loan_Status     ID  \n",
      "0             False          False        False  False  \n",
      "1             False          False        False  False  \n",
      "2             False          False        False  False  \n",
      "3             False          False        False  False  \n",
      "4             False          False        False  False  \n",
      "..              ...            ...          ...    ...  \n",
      "609           False          False        False  False  \n",
      "610           False          False        False  False  \n",
      "611           False          False        False  False  \n",
      "612           False          False        False  False  \n",
      "613           False          False        False  False  \n",
      "\n",
      "[614 rows x 14 columns]\n"
     ]
    }
   ],
   "source": [
    "print(Loan.isnull())"
   ]
  },
  {
   "cell_type": "code",
   "execution_count": null,
   "metadata": {},
   "outputs": [],
   "source": []
  },
  {
   "cell_type": "code",
   "execution_count": 30,
   "metadata": {},
   "outputs": [
    {
     "name": "stdout",
     "output_type": "stream",
     "text": [
      "     CustomerID   Genre  Age  Annual Income (k$)  Spending Score (1-100)\n",
      "0             1    Male   19                  15                      39\n",
      "1             2    Male   21                  15                      81\n",
      "2             3  Female   20                  16                       6\n",
      "3             4  Female   23                  16                      77\n",
      "4             5  Female   31                  17                      40\n",
      "..          ...     ...  ...                 ...                     ...\n",
      "195         196  Female   35                 120                      79\n",
      "196         197  Female   45                 126                      28\n",
      "197         198    Male   32                 126                      74\n",
      "198         199    Male   32                 137                      18\n",
      "199         200    Male   30                 137                      83\n",
      "\n",
      "[200 rows x 5 columns]\n"
     ]
    }
   ],
   "source": [
    "print(customer)"
   ]
  },
  {
   "cell_type": "code",
   "execution_count": 31,
   "metadata": {},
   "outputs": [
    {
     "data": {
      "text/plain": [
       "CustomerID                200\n",
       "Genre                     200\n",
       "Age                       200\n",
       "Annual Income (k$)        200\n",
       "Spending Score (1-100)    200\n",
       "dtype: int64"
      ]
     },
     "execution_count": 31,
     "metadata": {},
     "output_type": "execute_result"
    }
   ],
   "source": [
    "customer.count()"
   ]
  },
  {
   "cell_type": "code",
   "execution_count": 33,
   "metadata": {},
   "outputs": [
    {
     "data": {
      "text/plain": [
       "(200, 5)"
      ]
     },
     "execution_count": 33,
     "metadata": {},
     "output_type": "execute_result"
    }
   ],
   "source": [
    "customer.shape"
   ]
  },
  {
   "cell_type": "raw",
   "metadata": {},
   "source": []
  },
  {
   "cell_type": "code",
   "execution_count": 12,
   "metadata": {},
   "outputs": [
    {
     "name": "stdout",
     "output_type": "stream",
     "text": [
      "     CustomerID Genre  Age  Annual Income (k$)  Spending Score (1-100)\n",
      "0             1  Male   19                  15                      39\n",
      "1             2  Male   21                  15                      81\n",
      "8             9  Male   64                  19                       3\n",
      "10           11  Male   67                  19                      14\n",
      "14           15  Male   37                  20                      13\n",
      "..          ...   ...  ...                 ...                     ...\n",
      "187         188  Male   28                 101                      68\n",
      "192         193  Male   33                 113                       8\n",
      "197         198  Male   32                 126                      74\n",
      "198         199  Male   32                 137                      18\n",
      "199         200  Male   30                 137                      83\n",
      "\n",
      "[88 rows x 5 columns]\n"
     ]
    }
   ],
   "source": [
    "grouped = customer.groupby('Genre')\n",
    "print (grouped.get_group('Male'))"
   ]
  },
  {
   "cell_type": "code",
   "execution_count": null,
   "metadata": {},
   "outputs": [],
   "source": [
    "#Let’s calculate the average spending score by Gender"
   ]
  },
  {
   "cell_type": "code",
   "execution_count": 24,
   "metadata": {},
   "outputs": [
    {
     "data": {
      "text/plain": [
       "Genre\n",
       "Female    51.526786\n",
       "Male      48.511364\n",
       "Name: Spending Score (1-100), dtype: float64"
      ]
     },
     "execution_count": 24,
     "metadata": {},
     "output_type": "execute_result"
    }
   ],
   "source": [
    "agg_group = customer.groupby('Genre')['Spending Score (1-100)'].mean()\n",
    "agg_group"
   ]
  },
  {
   "cell_type": "code",
   "execution_count": 25,
   "metadata": {},
   "outputs": [
    {
     "name": "stdout",
     "output_type": "stream",
     "text": [
      "   CustomerID   Genre  Age  Annual Income (k$)  Spending Score (1-100)\n",
      "0           1    Male   19                  15                      39\n",
      "1           2    Male   21                  15                      81\n",
      "2           3  Female   20                  16                       6\n",
      "3           4  Female   23                  16                      77\n",
      "4           5  Female   31                  17                      40\n",
      "Index(['CustomerID', 'Genre', 'Age', 'Annual Income (k$)',\n",
      "       'Spending Score (1-100)'],\n",
      "      dtype='object')\n",
      "(200, 5)\n"
     ]
    }
   ],
   "source": [
    "print(customer.head(5))\n",
    "print(customer.columns)\n",
    "print(customer.shape)"
   ]
  },
  {
   "cell_type": "code",
   "execution_count": null,
   "metadata": {},
   "outputs": [],
   "source": [
    "#Let’s calculate the average and total Loanamount by Property_Area ."
   ]
  },
  {
   "cell_type": "code",
   "execution_count": 17,
   "metadata": {},
   "outputs": [
    {
     "name": "stdout",
     "output_type": "stream",
     "text": [
      "                     mean      sum\n",
      "Property_Area                     \n",
      "Rural          152.260116  26341.0\n",
      "Semiurban      145.504386  33175.0\n",
      "Urban          142.198953  27160.0\n"
     ]
    }
   ],
   "source": [
    "import numpy as np\n",
    "agg_group = Loan.groupby('Property_Area')['LoanAmount'].agg([np.mean,np.sum])\n",
    "print(agg_group)"
   ]
  },
  {
   "cell_type": "code",
   "execution_count": 6,
   "metadata": {},
   "outputs": [
    {
     "name": "stdout",
     "output_type": "stream",
     "text": [
      "    Loan_ID Gender Married Dependents     Education Self_Employed  \\\n",
      "0  LP001002   Male      No          0      Graduate            No   \n",
      "1  LP001003   Male     Yes          1      Graduate            No   \n",
      "2  LP001005   Male     Yes          0      Graduate           Yes   \n",
      "3  LP001006   Male     Yes          0  Not Graduate            No   \n",
      "4  LP001008   Male      No          0      Graduate            No   \n",
      "\n",
      "   ApplicantIncome  CoapplicantIncome  LoanAmount  Loan_Amount_Term  \\\n",
      "0             5849                0.0         NaN             360.0   \n",
      "1             4583             1508.0       128.0             360.0   \n",
      "2             3000                0.0        66.0             360.0   \n",
      "3             2583             2358.0       120.0             360.0   \n",
      "4             6000                0.0       141.0             360.0   \n",
      "\n",
      "   Credit_History Property_Area Loan_Status  ID  \n",
      "0             1.0         Urban           Y   1  \n",
      "1             1.0         Rural           N   2  \n",
      "2             1.0         Urban           Y   3  \n",
      "3             1.0         Urban           Y   4  \n",
      "4             1.0         Urban           Y   5  \n",
      "Index(['Loan_ID', 'Gender', 'Married', 'Dependents', 'Education',\n",
      "       'Self_Employed', 'ApplicantIncome', 'CoapplicantIncome', 'LoanAmount',\n",
      "       'Loan_Amount_Term', 'Credit_History', 'Property_Area', 'Loan_Status',\n",
      "       'ID'],\n",
      "      dtype='object')\n",
      "(614, 14)\n"
     ]
    }
   ],
   "source": [
    "print(Loan.head(5))\n",
    "print(Loan.columns)\n",
    "print(Loan.shape)"
   ]
  },
  {
   "cell_type": "code",
   "execution_count": 26,
   "metadata": {},
   "outputs": [],
   "source": [
    "#data frame  with  all Male customers, who are not graduates , whose loan is approved \n",
    "cfd=Loan.loc[(Loan[\"Gender\"]==\"Male\") & (Loan[\"Education\"]==\"Not Graduate\") & (Loan[\"Loan_Status\"]==\"Y\"), [\"Loan_ID\",\"ID\",\"Gender\",\"Education\",'LoanAmount',\n",
    "       'Loan_Amount_Term',\"Loan_Status\"]]"
   ]
  },
  {
   "cell_type": "code",
   "execution_count": 27,
   "metadata": {},
   "outputs": [
    {
     "name": "stdout",
     "output_type": "stream",
     "text": [
      "      Loan_ID    ID Gender     Education  LoanAmount  Loan_Amount_Term  \\\n",
      "3    LP001006     4   Male  Not Graduate       120.0             360.0   \n",
      "6    LP001013     7   Male  Not Graduate        95.0             360.0   \n",
      "16   LP001034    17   Male  Not Graduate       100.0             240.0   \n",
      "27   LP001073    28   Male  Not Graduate       110.0             360.0   \n",
      "39   LP001116    40   Male  Not Graduate       110.0             360.0   \n",
      "..        ...   ...    ...           ...         ...               ...   \n",
      "563  LP002821  5800   Male  Not Graduate       132.0             360.0   \n",
      "565  LP002833  4467   Male  Not Graduate       120.0             360.0   \n",
      "595  LP002940  3833   Male  Not Graduate       110.0             360.0   \n",
      "601  LP002950  2894   Male  Not Graduate       155.0             360.0   \n",
      "607  LP002964  3987   Male  Not Graduate       157.0             360.0   \n",
      "\n",
      "    Loan_Status  \n",
      "3             Y  \n",
      "6             Y  \n",
      "16            Y  \n",
      "27            Y  \n",
      "39            Y  \n",
      "..          ...  \n",
      "563           Y  \n",
      "565           Y  \n",
      "595           Y  \n",
      "601           Y  \n",
      "607           Y  \n",
      "\n",
      "[68 rows x 7 columns]\n"
     ]
    }
   ],
   "source": [
    "print(cfd)"
   ]
  },
  {
   "cell_type": "code",
   "execution_count": 28,
   "metadata": {},
   "outputs": [
    {
     "data": {
      "text/plain": [
       "Index(['Loan_ID', 'ID', 'Gender', 'Education', 'LoanAmount',\n",
       "       'Loan_Amount_Term', 'Loan_Status'],\n",
       "      dtype='object')"
      ]
     },
     "execution_count": 28,
     "metadata": {},
     "output_type": "execute_result"
    }
   ],
   "source": [
    "cfd.columns"
   ]
  },
  {
   "cell_type": "code",
   "execution_count": 24,
   "metadata": {},
   "outputs": [
    {
     "name": "stdout",
     "output_type": "stream",
     "text": [
      "\n",
      "\n",
      "Missing values per column:\n",
      "\n",
      "\n",
      "Loan_ID        0\n",
      "ID             0\n",
      "Gender         0\n",
      "Education      0\n",
      "Loan_Status    0\n",
      "dtype: int64\n",
      "\n",
      "\n",
      "Missing values per row:\n",
      "\n",
      "\n",
      "3     0\n",
      "6     0\n",
      "16    0\n",
      "27    0\n",
      "39    0\n",
      "dtype: int64\n"
     ]
    }
   ],
   "source": [
    "\"\"\" APPLY FUNCTION to check any missing values\"\"\"\n",
    "\n",
    "def num_missing(x):\n",
    "  return sum(x.isnull())\n",
    "\n",
    "#Applying per column:\n",
    "print(\"\\n\\nMissing values per column:\\n\\n\")\n",
    "print(cfd.apply(num_missing, axis=0)) \n",
    "#axis=0 defines that function is to be applied on each column\n",
    "\n",
    "#Applying per row:\n",
    "print(\"\\n\\nMissing values per row:\\n\\n\")\n",
    "print(cfd.apply(num_missing, axis=1).head()) \n",
    "#axis=1 defines that function is to be applied on each row"
   ]
  },
  {
   "cell_type": "code",
   "execution_count": 25,
   "metadata": {},
   "outputs": [],
   "source": [
    "#Get all Customer details with loan approved ids\n",
    "\n",
    "data_merged = pd.merge(cfd,customer, how='inner',left_on='ID',right_on='CustomerID')"
   ]
  },
  {
   "cell_type": "code",
   "execution_count": 26,
   "metadata": {},
   "outputs": [
    {
     "name": "stdout",
     "output_type": "stream",
     "text": [
      "(20, 10)\n"
     ]
    }
   ],
   "source": [
    "print(data_merged.shape)"
   ]
  },
  {
   "cell_type": "code",
   "execution_count": 27,
   "metadata": {},
   "outputs": [
    {
     "name": "stdout",
     "output_type": "stream",
     "text": [
      "     Loan_ID   ID Gender     Education Loan_Status  CustomerID   Genre  Age  \\\n",
      "0   LP001006    4   Male  Not Graduate           Y           4  Female   23   \n",
      "1   LP001013    7   Male  Not Graduate           Y           7  Female   35   \n",
      "2   LP001034   17   Male  Not Graduate           Y          17  Female   35   \n",
      "3   LP001073   28   Male  Not Graduate           Y          28    Male   35   \n",
      "4   LP001116   40   Male  Not Graduate           Y          40  Female   20   \n",
      "5   LP001136   45   Male  Not Graduate           Y          45  Female   49   \n",
      "6   LP001199   60   Male  Not Graduate           Y          60    Male   53   \n",
      "7   LP001238   69   Male  Not Graduate           Y          69    Male   19   \n",
      "8   LP001245   72   Male  Not Graduate           Y          72  Female   47   \n",
      "9   LP001264   80   Male  Not Graduate           Y          80  Female   49   \n",
      "10  LP001280   87   Male  Not Graduate           Y          87  Female   55   \n",
      "11  LP001319   93   Male  Not Graduate           Y          93    Male   48   \n",
      "12  LP001325   95   Male  Not Graduate           Y          95  Female   32   \n",
      "13  LP001334   99   Male  Not Graduate           Y          99    Male   48   \n",
      "14  LP001345  101   Male  Not Graduate           Y         101  Female   23   \n",
      "15  LP001384  110   Male  Not Graduate           Y         110    Male   66   \n",
      "16  LP001439  125   Male  Not Graduate           Y         125  Female   23   \n",
      "17  LP001560  161   Male  Not Graduate           Y         161  Female   56   \n",
      "18  LP001581  171   Male  Not Graduate           Y         171    Male   40   \n",
      "19  LP001653  191   Male  Not Graduate           Y         191  Female   34   \n",
      "\n",
      "    Annual Income (k$)  Spending Score (1-100)  \n",
      "0                   16                      77  \n",
      "1                   18                       6  \n",
      "2                   21                      35  \n",
      "3                   28                      61  \n",
      "4                   37                      75  \n",
      "5                   39                      28  \n",
      "6                   46                      46  \n",
      "7                   48                      59  \n",
      "8                   49                      42  \n",
      "9                   54                      42  \n",
      "10                  57                      58  \n",
      "11                  60                      49  \n",
      "12                  60                      42  \n",
      "13                  61                      42  \n",
      "14                  62                      41  \n",
      "15                  63                      48  \n",
      "16                  70                      29  \n",
      "17                  79                      35  \n",
      "18                  87                      13  \n",
      "19                 103                      23  \n"
     ]
    }
   ],
   "source": [
    "print(data_merged)"
   ]
  },
  {
   "cell_type": "code",
   "execution_count": 32,
   "metadata": {},
   "outputs": [],
   "source": [
    "# setting Loan ID as index column \n",
    "data_merged.set_index(\"Loan_ID\", inplace = True) "
   ]
  },
  {
   "cell_type": "code",
   "execution_count": 33,
   "metadata": {},
   "outputs": [
    {
     "name": "stdout",
     "output_type": "stream",
     "text": [
      "Data Load Sucessfull\n"
     ]
    }
   ],
   "source": [
    "#Load the processed data\n",
    "try:\n",
    "    data_merged.to_excel(\"C:\\Focus Training\\Training\\Processed Loan.xls\")\n",
    "    print(\"Data Load Sucessfull\")\n",
    "except:\n",
    "    print(\"Data Load unSucessfull\")"
   ]
  },
  {
   "cell_type": "code",
   "execution_count": null,
   "metadata": {},
   "outputs": [],
   "source": []
  }
 ],
 "metadata": {
  "kernelspec": {
   "display_name": "Python 3",
   "language": "python",
   "name": "python3"
  },
  "language_info": {
   "codemirror_mode": {
    "name": "ipython",
    "version": 3
   },
   "file_extension": ".py",
   "mimetype": "text/x-python",
   "name": "python",
   "nbconvert_exporter": "python",
   "pygments_lexer": "ipython3",
   "version": "3.7.3"
  }
 },
 "nbformat": 4,
 "nbformat_minor": 2
}
