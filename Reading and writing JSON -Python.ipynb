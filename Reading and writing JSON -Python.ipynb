{
 "cells": [
  {
   "cell_type": "markdown",
   "metadata": {},
   "source": [
    "# Working with JSON Files in Python\n",
    "JSON (JavaScript Object Notation) files are lightweight and human-readable to store and exchange data. It is easy for machines to parse and generate these files and are based on the JavaScript programming language.\n",
    "\n",
    "JSON files store data within {} similar to how a dictionary stores it in Python. But their major benefit is that they are language-independent, meaning they can be used with any programming language – be it Python, C or even Java!\n",
    "\n",
    "This is how a JSON file looks:\n",
    "\n",
    "\n"
   ]
  },
  {
   "cell_type": "markdown",
   "metadata": {},
   "source": [
    "# Serialization and Deserialization\n",
    "Serialization: The process of converting an object into a special format which is suitable for transmitting over the network or storing in file or database is called Serialization.\n",
    "\n",
    "Deserialization: It is the reverse of serialization. It converts the special format returned by the serialization back into a usable object.\n",
    "\n",
    "In the case of JSON, when we serializing objects, we essentially convert a Python object into a JSON string and deserialization builds up the Python object from its JSON string representation.\n",
    "\n",
    "Python provides a built-in module called json for serializing and deserializing objects. To use json module import it as follows:"
   ]
  },
  {
   "cell_type": "markdown",
   "metadata": {},
   "source": [
    "# The json module mainly provides the following functions for serializing and deserializing.\n",
    "\n",
    "#dump(obj, fileobj)\n",
    "#dumps(obj)\n",
    "#load(fileobj)\n",
    "#loads(s)"
   ]
  },
  {
   "cell_type": "code",
   "execution_count": null,
   "metadata": {},
   "outputs": [],
   "source": [
    "#Load"
   ]
  },
  {
   "cell_type": "markdown",
   "metadata": {},
   "source": [
    "# Deserializing with load()\n",
    "The load() function deserializes the JSON object from the file like object and returns it.\n",
    "\n",
    "Its syntax is as follows:\n",
    "\n",
    "load(fp) -> a Python object"
   ]
  },
  {
   "cell_type": "code",
   "execution_count": 1,
   "metadata": {},
   "outputs": [
    {
     "name": "stdout",
     "output_type": "stream",
     "text": [
      "<class 'list'>\n"
     ]
    },
    {
     "data": {
      "text/html": [
       "<div>\n",
       "<style scoped>\n",
       "    .dataframe tbody tr th:only-of-type {\n",
       "        vertical-align: middle;\n",
       "    }\n",
       "\n",
       "    .dataframe tbody tr th {\n",
       "        vertical-align: top;\n",
       "    }\n",
       "\n",
       "    .dataframe thead th {\n",
       "        text-align: right;\n",
       "    }\n",
       "</style>\n",
       "<table border=\"1\" class=\"dataframe\">\n",
       "  <thead>\n",
       "    <tr style=\"text-align: right;\">\n",
       "      <th></th>\n",
       "      <th>id</th>\n",
       "      <th>name</th>\n",
       "      <th>math</th>\n",
       "      <th>physics</th>\n",
       "      <th>chemistry</th>\n",
       "    </tr>\n",
       "  </thead>\n",
       "  <tbody>\n",
       "    <tr>\n",
       "      <th>0</th>\n",
       "      <td>A001</td>\n",
       "      <td>RAHUL</td>\n",
       "      <td>60</td>\n",
       "      <td>66</td>\n",
       "      <td>61</td>\n",
       "    </tr>\n",
       "    <tr>\n",
       "      <th>1</th>\n",
       "      <td>A002</td>\n",
       "      <td>NIBTA</td>\n",
       "      <td>89</td>\n",
       "      <td>76</td>\n",
       "      <td>51</td>\n",
       "    </tr>\n",
       "    <tr>\n",
       "      <th>2</th>\n",
       "      <td>A003</td>\n",
       "      <td>SURESH</td>\n",
       "      <td>79</td>\n",
       "      <td>90</td>\n",
       "      <td>78</td>\n",
       "    </tr>\n",
       "  </tbody>\n",
       "</table>\n",
       "</div>"
      ],
      "text/plain": [
       "     id    name  math  physics  chemistry\n",
       "0  A001   RAHUL    60       66         61\n",
       "1  A002   NIBTA    89       76         51\n",
       "2  A003  SURESH    79       90         78"
      ]
     },
     "execution_count": 1,
     "metadata": {},
     "output_type": "execute_result"
    }
   ],
   "source": [
    "import json\n",
    "import pandas as pd\n",
    "\n",
    "# open json file\n",
    "with open('C:\\\\Users\\\\hcluser1\\\\Data_J_X\\\\Marks.json','r') as file:\n",
    "    data = json.load(file)\n",
    "\n",
    "# json dictionary\n",
    "print(type(data))\n",
    "\n",
    "# loading into a DataFrame\n",
    "df_json = pd.DataFrame(data)\n",
    "df_json"
   ]
  },
  {
   "cell_type": "code",
   "execution_count": 2,
   "metadata": {},
   "outputs": [
    {
     "data": {
      "text/plain": [
       "Index(['id', 'name', 'math', 'physics', 'chemistry'], dtype='object')"
      ]
     },
     "execution_count": 2,
     "metadata": {},
     "output_type": "execute_result"
    }
   ],
   "source": [
    "df_json.columns"
   ]
  },
  {
   "cell_type": "markdown",
   "metadata": {},
   "source": [
    "# But you can even load the JSON file directly into a dataframe using the pandas.read_json() function as shown below:"
   ]
  },
  {
   "cell_type": "code",
   "execution_count": 4,
   "metadata": {},
   "outputs": [
    {
     "data": {
      "text/html": [
       "<div>\n",
       "<style scoped>\n",
       "    .dataframe tbody tr th:only-of-type {\n",
       "        vertical-align: middle;\n",
       "    }\n",
       "\n",
       "    .dataframe tbody tr th {\n",
       "        vertical-align: top;\n",
       "    }\n",
       "\n",
       "    .dataframe thead th {\n",
       "        text-align: right;\n",
       "    }\n",
       "</style>\n",
       "<table border=\"1\" class=\"dataframe\">\n",
       "  <thead>\n",
       "    <tr style=\"text-align: right;\">\n",
       "      <th></th>\n",
       "      <th>id</th>\n",
       "      <th>name</th>\n",
       "      <th>math</th>\n",
       "      <th>physics</th>\n",
       "      <th>chemistry</th>\n",
       "    </tr>\n",
       "  </thead>\n",
       "  <tbody>\n",
       "    <tr>\n",
       "      <th>0</th>\n",
       "      <td>A001</td>\n",
       "      <td>RAHUL</td>\n",
       "      <td>60</td>\n",
       "      <td>66</td>\n",
       "      <td>61</td>\n",
       "    </tr>\n",
       "    <tr>\n",
       "      <th>1</th>\n",
       "      <td>A002</td>\n",
       "      <td>NIBTA</td>\n",
       "      <td>89</td>\n",
       "      <td>76</td>\n",
       "      <td>51</td>\n",
       "    </tr>\n",
       "    <tr>\n",
       "      <th>2</th>\n",
       "      <td>A003</td>\n",
       "      <td>SURESH</td>\n",
       "      <td>79</td>\n",
       "      <td>90</td>\n",
       "      <td>78</td>\n",
       "    </tr>\n",
       "  </tbody>\n",
       "</table>\n",
       "</div>"
      ],
      "text/plain": [
       "     id    name  math  physics  chemistry\n",
       "0  A001   RAHUL    60       66         61\n",
       "1  A002   NIBTA    89       76         51\n",
       "2  A003  SURESH    79       90         78"
      ]
     },
     "execution_count": 4,
     "metadata": {},
     "output_type": "execute_result"
    }
   ],
   "source": [
    "# reading directly into a DataFrame usind pd.read_json()\n",
    "path = 'C:\\\\Users\\\\hcluser1\\\\Data_J_X\\\\Marks.json'\n",
    "df = pd.read_json(path)\n",
    "df"
   ]
  },
  {
   "cell_type": "code",
   "execution_count": 3,
   "metadata": {},
   "outputs": [],
   "source": [
    "#Flattening nested list from JSON object"
   ]
  },
  {
   "cell_type": "code",
   "execution_count": 5,
   "metadata": {},
   "outputs": [
    {
     "data": {
      "text/html": [
       "<div>\n",
       "<style scoped>\n",
       "    .dataframe tbody tr th:only-of-type {\n",
       "        vertical-align: middle;\n",
       "    }\n",
       "\n",
       "    .dataframe tbody tr th {\n",
       "        vertical-align: top;\n",
       "    }\n",
       "\n",
       "    .dataframe thead th {\n",
       "        text-align: right;\n",
       "    }\n",
       "</style>\n",
       "<table border=\"1\" class=\"dataframe\">\n",
       "  <thead>\n",
       "    <tr style=\"text-align: right;\">\n",
       "      <th></th>\n",
       "      <th>school_name</th>\n",
       "      <th>class</th>\n",
       "      <th>students</th>\n",
       "    </tr>\n",
       "  </thead>\n",
       "  <tbody>\n",
       "    <tr>\n",
       "      <th>0</th>\n",
       "      <td>ABC primary school</td>\n",
       "      <td>Year 1</td>\n",
       "      <td>{'id': 'A001', 'name': 'RAHUL', 'math': 60, 'p...</td>\n",
       "    </tr>\n",
       "    <tr>\n",
       "      <th>1</th>\n",
       "      <td>ABC primary school</td>\n",
       "      <td>Year 1</td>\n",
       "      <td>{'id': 'A002', 'name': 'NIBITA', 'math': 89, '...</td>\n",
       "    </tr>\n",
       "    <tr>\n",
       "      <th>2</th>\n",
       "      <td>ABC primary school</td>\n",
       "      <td>Year 1</td>\n",
       "      <td>{'id': 'A003', 'name': 'SURESH', 'math': 79, '...</td>\n",
       "    </tr>\n",
       "  </tbody>\n",
       "</table>\n",
       "</div>"
      ],
      "text/plain": [
       "          school_name   class  \\\n",
       "0  ABC primary school  Year 1   \n",
       "1  ABC primary school  Year 1   \n",
       "2  ABC primary school  Year 1   \n",
       "\n",
       "                                            students  \n",
       "0  {'id': 'A001', 'name': 'RAHUL', 'math': 60, 'p...  \n",
       "1  {'id': 'A002', 'name': 'NIBITA', 'math': 89, '...  \n",
       "2  {'id': 'A003', 'name': 'SURESH', 'math': 79, '...  "
      ]
     },
     "execution_count": 5,
     "metadata": {},
     "output_type": "execute_result"
    }
   ],
   "source": [
    "df = pd.read_json('C:\\\\Users\\\\hcluser1\\\\Data_J_X\\\\Marks_Details_Nested.json')\n",
    "df"
   ]
  },
  {
   "cell_type": "markdown",
   "metadata": {},
   "source": [
    "# loads() \n",
    "function is as same as load() but instead of deserializing the JSON string from a file, it deserializes from a string."
   ]
  },
  {
   "cell_type": "code",
   "execution_count": 6,
   "metadata": {},
   "outputs": [
    {
     "data": {
      "text/html": [
       "<div>\n",
       "<style scoped>\n",
       "    .dataframe tbody tr th:only-of-type {\n",
       "        vertical-align: middle;\n",
       "    }\n",
       "\n",
       "    .dataframe tbody tr th {\n",
       "        vertical-align: top;\n",
       "    }\n",
       "\n",
       "    .dataframe thead th {\n",
       "        text-align: right;\n",
       "    }\n",
       "</style>\n",
       "<table border=\"1\" class=\"dataframe\">\n",
       "  <thead>\n",
       "    <tr style=\"text-align: right;\">\n",
       "      <th></th>\n",
       "      <th>id</th>\n",
       "      <th>name</th>\n",
       "      <th>math</th>\n",
       "      <th>physics</th>\n",
       "      <th>chemistry</th>\n",
       "    </tr>\n",
       "  </thead>\n",
       "  <tbody>\n",
       "    <tr>\n",
       "      <th>0</th>\n",
       "      <td>A001</td>\n",
       "      <td>RAHUL</td>\n",
       "      <td>60</td>\n",
       "      <td>66</td>\n",
       "      <td>61</td>\n",
       "    </tr>\n",
       "    <tr>\n",
       "      <th>1</th>\n",
       "      <td>A002</td>\n",
       "      <td>NIBITA</td>\n",
       "      <td>89</td>\n",
       "      <td>76</td>\n",
       "      <td>51</td>\n",
       "    </tr>\n",
       "    <tr>\n",
       "      <th>2</th>\n",
       "      <td>A003</td>\n",
       "      <td>SURESH</td>\n",
       "      <td>79</td>\n",
       "      <td>90</td>\n",
       "      <td>78</td>\n",
       "    </tr>\n",
       "  </tbody>\n",
       "</table>\n",
       "</div>"
      ],
      "text/plain": [
       "     id    name  math  physics  chemistry\n",
       "0  A001   RAHUL    60       66         61\n",
       "1  A002  NIBITA    89       76         51\n",
       "2  A003  SURESH    79       90         78"
      ]
     },
     "execution_count": 6,
     "metadata": {},
     "output_type": "execute_result"
    }
   ],
   "source": [
    "import json\n",
    "# load data using Python JSON module\n",
    "with open('C:\\\\Users\\\\hcluser1\\\\Data_J_X\\\\Marks_Details_Nested.json','r') as f:\n",
    "    data = json.loads(f.read())\n",
    "# Flatten data\n",
    "df_nested_list = pd.json_normalize(data, record_path =['students'])\n",
    "\n",
    "df_nested_list"
   ]
  },
  {
   "cell_type": "code",
   "execution_count": 17,
   "metadata": {},
   "outputs": [
    {
     "data": {
      "text/html": [
       "<div>\n",
       "<style scoped>\n",
       "    .dataframe tbody tr th:only-of-type {\n",
       "        vertical-align: middle;\n",
       "    }\n",
       "\n",
       "    .dataframe tbody tr th {\n",
       "        vertical-align: top;\n",
       "    }\n",
       "\n",
       "    .dataframe thead th {\n",
       "        text-align: right;\n",
       "    }\n",
       "</style>\n",
       "<table border=\"1\" class=\"dataframe\">\n",
       "  <thead>\n",
       "    <tr style=\"text-align: right;\">\n",
       "      <th></th>\n",
       "      <th>id</th>\n",
       "      <th>name</th>\n",
       "      <th>math</th>\n",
       "      <th>physics</th>\n",
       "      <th>chemistry</th>\n",
       "      <th>school_name</th>\n",
       "      <th>class</th>\n",
       "    </tr>\n",
       "  </thead>\n",
       "  <tbody>\n",
       "    <tr>\n",
       "      <th>0</th>\n",
       "      <td>A001</td>\n",
       "      <td>RAHUL</td>\n",
       "      <td>60</td>\n",
       "      <td>66</td>\n",
       "      <td>61</td>\n",
       "      <td>ABC primary school</td>\n",
       "      <td>Year 1</td>\n",
       "    </tr>\n",
       "    <tr>\n",
       "      <th>1</th>\n",
       "      <td>A002</td>\n",
       "      <td>NIBITA</td>\n",
       "      <td>89</td>\n",
       "      <td>76</td>\n",
       "      <td>51</td>\n",
       "      <td>ABC primary school</td>\n",
       "      <td>Year 1</td>\n",
       "    </tr>\n",
       "    <tr>\n",
       "      <th>2</th>\n",
       "      <td>A003</td>\n",
       "      <td>SURESH</td>\n",
       "      <td>79</td>\n",
       "      <td>90</td>\n",
       "      <td>78</td>\n",
       "      <td>ABC primary school</td>\n",
       "      <td>Year 1</td>\n",
       "    </tr>\n",
       "  </tbody>\n",
       "</table>\n",
       "</div>"
      ],
      "text/plain": [
       "     id    name  math  physics  chemistry         school_name   class\n",
       "0  A001   RAHUL    60       66         61  ABC primary school  Year 1\n",
       "1  A002  NIBITA    89       76         51  ABC primary school  Year 1\n",
       "2  A003  SURESH    79       90         78  ABC primary school  Year 1"
      ]
     },
     "execution_count": 17,
     "metadata": {},
     "output_type": "execute_result"
    }
   ],
   "source": [
    "# To include school_name and class\n",
    "df_nested_list = pd.json_normalize(\n",
    "    data, \n",
    "    record_path =['students'], \n",
    "    meta=['school_name', 'class']\n",
    ")\n",
    "\n",
    "df_nested_list"
   ]
  },
  {
   "cell_type": "markdown",
   "metadata": {},
   "source": [
    "# #json_string and parsed_json\n",
    " \n",
    " One of the most common task which we perform on JSON is to convert it to Python object. json library provides loads function to achieve it. Lets understand it with following example.In the below example we will take a JSON string (json_string) and convert it to Python object (parsed_json)."
   ]
  },
  {
   "cell_type": "code",
   "execution_count": 20,
   "metadata": {},
   "outputs": [
    {
     "name": "stdout",
     "output_type": "stream",
     "text": [
      "<class 'dict'> {'first_name': 'Guido', 'last_name': 'Rossum'}\n"
     ]
    }
   ],
   "source": [
    "import json\n",
    "# XML equival of json_string\n",
    "\"\"\" \n",
    "<user>\n",
    "    <first_name>Guido</first_name>\n",
    "    <last_name>Rossum</last_name>\n",
    "</user>\n",
    "\"\"\"\n",
    "json_string = '{\"first_name\": \"Guido\", \"last_name\":\"Rossum\"}'\n",
    "\n",
    "parsed_json = json.loads(json_string)\n",
    "print(type(parsed_json), parsed_json)"
   ]
  },
  {
   "cell_type": "code",
   "execution_count": null,
   "metadata": {},
   "outputs": [],
   "source": [
    "# We have used loads function to convert JSON string to Python object. As parsed_json is a dictionary, \n",
    "#lets read its individual elements."
   ]
  },
  {
   "cell_type": "code",
   "execution_count": 21,
   "metadata": {},
   "outputs": [
    {
     "name": "stdout",
     "output_type": "stream",
     "text": [
      "Guido Rossum\n"
     ]
    }
   ],
   "source": [
    "print(parsed_json['first_name'],\n",
    "      parsed_json['last_name'])"
   ]
  },
  {
   "cell_type": "code",
   "execution_count": 24,
   "metadata": {},
   "outputs": [
    {
     "name": "stdout",
     "output_type": "stream",
     "text": [
      "first_name => Guido\n",
      "last_name => Rossum\n"
     ]
    }
   ],
   "source": [
    "#We can even traverse using for loop.\n",
    "    \n",
    "for j, v in parsed_json.items():\n",
    "      print(j, \"=>\", v)"
   ]
  },
  {
   "cell_type": "code",
   "execution_count": 7,
   "metadata": {},
   "outputs": [],
   "source": [
    "#Import from URL\n",
    "\n",
    "import pandas as pd\n",
    "\n",
    "url = 'https://raw.githubusercontent.com/werowe/logisticRegressionBestModel/master/ct1.json'\n",
    "\n",
    "dfct=pd.read_json(url,lines=True)"
   ]
  },
  {
   "cell_type": "code",
   "execution_count": 8,
   "metadata": {},
   "outputs": [
    {
     "data": {
      "text/html": [
       "<div>\n",
       "<style scoped>\n",
       "    .dataframe tbody tr th:only-of-type {\n",
       "        vertical-align: middle;\n",
       "    }\n",
       "\n",
       "    .dataframe tbody tr th {\n",
       "        vertical-align: top;\n",
       "    }\n",
       "\n",
       "    .dataframe thead th {\n",
       "        text-align: right;\n",
       "    }\n",
       "</style>\n",
       "<table border=\"1\" class=\"dataframe\">\n",
       "  <thead>\n",
       "    <tr style=\"text-align: right;\">\n",
       "      <th></th>\n",
       "      <th>state</th>\n",
       "      <th>postcode</th>\n",
       "      <th>street</th>\n",
       "      <th>district</th>\n",
       "      <th>unit</th>\n",
       "      <th>location</th>\n",
       "      <th>region</th>\n",
       "      <th>number</th>\n",
       "      <th>city</th>\n",
       "    </tr>\n",
       "  </thead>\n",
       "  <tbody>\n",
       "    <tr>\n",
       "      <th>0</th>\n",
       "      <td>CT</td>\n",
       "      <td>6457</td>\n",
       "      <td>Country Club Rd</td>\n",
       "      <td></td>\n",
       "      <td></td>\n",
       "      <td>{'type': 'Point', 'coordinates': [-72.7277847,...</td>\n",
       "      <td>Middlesex</td>\n",
       "      <td>1111</td>\n",
       "      <td>Middletown</td>\n",
       "    </tr>\n",
       "    <tr>\n",
       "      <th>1</th>\n",
       "      <td>CT</td>\n",
       "      <td>6037</td>\n",
       "      <td>Parish Dr</td>\n",
       "      <td></td>\n",
       "      <td></td>\n",
       "      <td>{'type': 'Point', 'coordinates': [-72.7738706,...</td>\n",
       "      <td>Hartford</td>\n",
       "      <td>51</td>\n",
       "      <td>Berlin</td>\n",
       "    </tr>\n",
       "    <tr>\n",
       "      <th>2</th>\n",
       "      <td>CT</td>\n",
       "      <td>6037</td>\n",
       "      <td>Stockings Brook Rd</td>\n",
       "      <td></td>\n",
       "      <td></td>\n",
       "      <td>{'type': 'Point', 'coordinates': [-72.8102478,...</td>\n",
       "      <td>Hartford</td>\n",
       "      <td>90</td>\n",
       "      <td>Berlin</td>\n",
       "    </tr>\n",
       "    <tr>\n",
       "      <th>3</th>\n",
       "      <td>CT</td>\n",
       "      <td>6037</td>\n",
       "      <td>Lamentation Dr</td>\n",
       "      <td></td>\n",
       "      <td></td>\n",
       "      <td>{'type': 'Point', 'coordinates': [-72.7450054,...</td>\n",
       "      <td>Hartford</td>\n",
       "      <td>99</td>\n",
       "      <td>Berlin</td>\n",
       "    </tr>\n",
       "    <tr>\n",
       "      <th>4</th>\n",
       "      <td>CT</td>\n",
       "      <td>6037</td>\n",
       "      <td>Lamentation Dr</td>\n",
       "      <td></td>\n",
       "      <td></td>\n",
       "      <td>{'type': 'Point', 'coordinates': [-72.7406975,...</td>\n",
       "      <td>Hartford</td>\n",
       "      <td>207</td>\n",
       "      <td>Berlin</td>\n",
       "    </tr>\n",
       "    <tr>\n",
       "      <th>...</th>\n",
       "      <td>...</td>\n",
       "      <td>...</td>\n",
       "      <td>...</td>\n",
       "      <td>...</td>\n",
       "      <td>...</td>\n",
       "      <td>...</td>\n",
       "      <td>...</td>\n",
       "      <td>...</td>\n",
       "      <td>...</td>\n",
       "    </tr>\n",
       "    <tr>\n",
       "      <th>95</th>\n",
       "      <td>CT</td>\n",
       "      <td>6037</td>\n",
       "      <td>Four Rod Rd</td>\n",
       "      <td></td>\n",
       "      <td></td>\n",
       "      <td>{'type': 'Point', 'coordinates': [-72.7676758,...</td>\n",
       "      <td>Hartford</td>\n",
       "      <td>160</td>\n",
       "      <td>Berlin</td>\n",
       "    </tr>\n",
       "    <tr>\n",
       "      <th>96</th>\n",
       "      <td>CT</td>\n",
       "      <td>6037</td>\n",
       "      <td>Percival Ave</td>\n",
       "      <td></td>\n",
       "      <td></td>\n",
       "      <td>{'type': 'Point', 'coordinates': [-72.7812195,...</td>\n",
       "      <td>Hartford</td>\n",
       "      <td>147</td>\n",
       "      <td>Berlin</td>\n",
       "    </tr>\n",
       "    <tr>\n",
       "      <th>97</th>\n",
       "      <td>CT</td>\n",
       "      <td>6037</td>\n",
       "      <td>Robindale Dr</td>\n",
       "      <td></td>\n",
       "      <td></td>\n",
       "      <td>{'type': 'Point', 'coordinates': [-72.7849181,...</td>\n",
       "      <td>Hartford</td>\n",
       "      <td>131</td>\n",
       "      <td>Berlin</td>\n",
       "    </tr>\n",
       "    <tr>\n",
       "      <th>98</th>\n",
       "      <td>CT</td>\n",
       "      <td>6037</td>\n",
       "      <td>Sugar Maple Ln</td>\n",
       "      <td></td>\n",
       "      <td></td>\n",
       "      <td>{'type': 'Point', 'coordinates': [-72.7689817,...</td>\n",
       "      <td>Hartford</td>\n",
       "      <td>43</td>\n",
       "      <td>Berlin</td>\n",
       "    </tr>\n",
       "    <tr>\n",
       "      <th>99</th>\n",
       "      <td>CT</td>\n",
       "      <td>6037</td>\n",
       "      <td>Sugar Maple Ln</td>\n",
       "      <td></td>\n",
       "      <td></td>\n",
       "      <td>{'type': 'Point', 'coordinates': [-72.769736, ...</td>\n",
       "      <td>Hartford</td>\n",
       "      <td>63</td>\n",
       "      <td>Berlin</td>\n",
       "    </tr>\n",
       "  </tbody>\n",
       "</table>\n",
       "<p>100 rows × 9 columns</p>\n",
       "</div>"
      ],
      "text/plain": [
       "   state  postcode              street district unit  \\\n",
       "0     CT      6457     Country Club Rd                 \n",
       "1     CT      6037           Parish Dr                 \n",
       "2     CT      6037  Stockings Brook Rd                 \n",
       "3     CT      6037      Lamentation Dr                 \n",
       "4     CT      6037      Lamentation Dr                 \n",
       "..   ...       ...                 ...      ...  ...   \n",
       "95    CT      6037         Four Rod Rd                 \n",
       "96    CT      6037        Percival Ave                 \n",
       "97    CT      6037        Robindale Dr                 \n",
       "98    CT      6037      Sugar Maple Ln                 \n",
       "99    CT      6037      Sugar Maple Ln                 \n",
       "\n",
       "                                             location     region  number  \\\n",
       "0   {'type': 'Point', 'coordinates': [-72.7277847,...  Middlesex    1111   \n",
       "1   {'type': 'Point', 'coordinates': [-72.7738706,...   Hartford      51   \n",
       "2   {'type': 'Point', 'coordinates': [-72.8102478,...   Hartford      90   \n",
       "3   {'type': 'Point', 'coordinates': [-72.7450054,...   Hartford      99   \n",
       "4   {'type': 'Point', 'coordinates': [-72.7406975,...   Hartford     207   \n",
       "..                                                ...        ...     ...   \n",
       "95  {'type': 'Point', 'coordinates': [-72.7676758,...   Hartford     160   \n",
       "96  {'type': 'Point', 'coordinates': [-72.7812195,...   Hartford     147   \n",
       "97  {'type': 'Point', 'coordinates': [-72.7849181,...   Hartford     131   \n",
       "98  {'type': 'Point', 'coordinates': [-72.7689817,...   Hartford      43   \n",
       "99  {'type': 'Point', 'coordinates': [-72.769736, ...   Hartford      63   \n",
       "\n",
       "          city  \n",
       "0   Middletown  \n",
       "1       Berlin  \n",
       "2       Berlin  \n",
       "3       Berlin  \n",
       "4       Berlin  \n",
       "..         ...  \n",
       "95      Berlin  \n",
       "96      Berlin  \n",
       "97      Berlin  \n",
       "98      Berlin  \n",
       "99      Berlin  \n",
       "\n",
       "[100 rows x 9 columns]"
      ]
     },
     "execution_count": 8,
     "metadata": {},
     "output_type": "execute_result"
    }
   ],
   "source": [
    "dfct"
   ]
  },
  {
   "cell_type": "code",
   "execution_count": 27,
   "metadata": {},
   "outputs": [],
   "source": [
    "#Notice that Pandas did not unwind the location JSON object."
   ]
  },
  {
   "cell_type": "code",
   "execution_count": 28,
   "metadata": {},
   "outputs": [
    {
     "data": {
      "text/html": [
       "<div>\n",
       "<style scoped>\n",
       "    .dataframe tbody tr th:only-of-type {\n",
       "        vertical-align: middle;\n",
       "    }\n",
       "\n",
       "    .dataframe tbody tr th {\n",
       "        vertical-align: top;\n",
       "    }\n",
       "\n",
       "    .dataframe thead th {\n",
       "        text-align: right;\n",
       "    }\n",
       "</style>\n",
       "<table border=\"1\" class=\"dataframe\">\n",
       "  <thead>\n",
       "    <tr style=\"text-align: right;\">\n",
       "      <th></th>\n",
       "      <th>type</th>\n",
       "      <th>coordinates</th>\n",
       "    </tr>\n",
       "  </thead>\n",
       "  <tbody>\n",
       "    <tr>\n",
       "      <th>0</th>\n",
       "      <td>Point</td>\n",
       "      <td>[-72.7277847, 41.5692709]</td>\n",
       "    </tr>\n",
       "    <tr>\n",
       "      <th>1</th>\n",
       "      <td>Point</td>\n",
       "      <td>[-72.7738706, 41.6332836]</td>\n",
       "    </tr>\n",
       "    <tr>\n",
       "      <th>2</th>\n",
       "      <td>Point</td>\n",
       "      <td>[-72.8102478, 41.5992734]</td>\n",
       "    </tr>\n",
       "    <tr>\n",
       "      <th>3</th>\n",
       "      <td>Point</td>\n",
       "      <td>[-72.7450054, 41.5991937]</td>\n",
       "    </tr>\n",
       "    <tr>\n",
       "      <th>4</th>\n",
       "      <td>Point</td>\n",
       "      <td>[-72.7406975, 41.5992867]</td>\n",
       "    </tr>\n",
       "    <tr>\n",
       "      <th>...</th>\n",
       "      <td>...</td>\n",
       "      <td>...</td>\n",
       "    </tr>\n",
       "    <tr>\n",
       "      <th>95</th>\n",
       "      <td>Point</td>\n",
       "      <td>[-72.7676758, 41.6267272]</td>\n",
       "    </tr>\n",
       "    <tr>\n",
       "      <th>96</th>\n",
       "      <td>Point</td>\n",
       "      <td>[-72.7812195, 41.6267528]</td>\n",
       "    </tr>\n",
       "    <tr>\n",
       "      <th>97</th>\n",
       "      <td>Point</td>\n",
       "      <td>[-72.7849181, 41.6266921]</td>\n",
       "    </tr>\n",
       "    <tr>\n",
       "      <th>98</th>\n",
       "      <td>Point</td>\n",
       "      <td>[-72.7689817, 41.6266608]</td>\n",
       "    </tr>\n",
       "    <tr>\n",
       "      <th>99</th>\n",
       "      <td>Point</td>\n",
       "      <td>[-72.769736, 41.6266151]</td>\n",
       "    </tr>\n",
       "  </tbody>\n",
       "</table>\n",
       "<p>100 rows × 2 columns</p>\n",
       "</div>"
      ],
      "text/plain": [
       "     type                coordinates\n",
       "0   Point  [-72.7277847, 41.5692709]\n",
       "1   Point  [-72.7738706, 41.6332836]\n",
       "2   Point  [-72.8102478, 41.5992734]\n",
       "3   Point  [-72.7450054, 41.5991937]\n",
       "4   Point  [-72.7406975, 41.5992867]\n",
       "..    ...                        ...\n",
       "95  Point  [-72.7676758, 41.6267272]\n",
       "96  Point  [-72.7812195, 41.6267528]\n",
       "97  Point  [-72.7849181, 41.6266921]\n",
       "98  Point  [-72.7689817, 41.6266608]\n",
       "99  Point   [-72.769736, 41.6266151]\n",
       "\n",
       "[100 rows x 2 columns]"
      ]
     },
     "execution_count": 28,
     "metadata": {},
     "output_type": "execute_result"
    }
   ],
   "source": [
    "#We turn the elements in location into list and then construct a DataFrame from that\n",
    "\n",
    "\n",
    "pd.DataFrame(list(dfct['location']))"
   ]
  },
  {
   "cell_type": "markdown",
   "metadata": {},
   "source": [
    "# Parse JSON from URL\n",
    "You can get JSON objects directly from the web and convert them to python objects. This is done through an API endpoint"
   ]
  },
  {
   "cell_type": "code",
   "execution_count": 45,
   "metadata": {},
   "outputs": [
    {
     "name": "stdout",
     "output_type": "stream",
     "text": [
      "$ 47174.02\n",
      "$ 1542.2826956\n"
     ]
    }
   ],
   "source": [
    "import json\n",
    "import urllib.request\n",
    "\n",
    "# download raw json object\n",
    "url = \"https://api.gdax.com/products/BTC-EUR/ticker\"\n",
    "data = urllib.request.urlopen(url).read().decode()\n",
    "\n",
    "# parse json object\n",
    "obj = json.loads(data)\n",
    "\n",
    "# output some object attributes\n",
    "print('$ ' + obj['price'])\n",
    "print('$ ' + obj['volume'])"
   ]
  },
  {
   "cell_type": "markdown",
   "metadata": {},
   "source": [
    "# Serializing with dump()\n",
    "The dump() function is used to serialize data. It takes a Python object, serializes it and writes the output (which is a JSON string) to a file like object.\n",
    "\n",
    "The syntax of dump() function is as follows:\n",
    "\n",
    "Syntax: dump(obj, fp)"
   ]
  },
  {
   "cell_type": "code",
   "execution_count": 36,
   "metadata": {},
   "outputs": [],
   "source": [
    "     import json\n",
    "\n",
    "     person = {\n",
    "         'first_name': \"John\",\n",
    "         \"isAlive\": True,\n",
    "         \"age\": 27,\n",
    "         \"address\": {\n",
    "             \"streetAddress\": \"21 2nd Street\",\n",
    "             \"city\": \"New York\",\n",
    "             \"state\": \"NY\",\n",
    "             \"postalCode\": \"10021-3100\"\n",
    "         },\n",
    "         \"hasMortgage\": None\n",
    "     }\n",
    "\n",
    " \n",
    "     with open('C:\\\\Users\\\\hcluser1\\\\Data_J_X\\\\person.json', 'w') as f:  # writing JSON object\n",
    "         json.dump(person, f)"
   ]
  },
  {
   "cell_type": "markdown",
   "metadata": {},
   "source": [
    "“dump” function which directly writes the dictionary to a file in the form of JSON, without needing to convert it into an actual JSON object."
   ]
  },
  {
   "cell_type": "code",
   "execution_count": 37,
   "metadata": {},
   "outputs": [
    {
     "data": {
      "text/plain": [
       "'{\"first_name\": \"John\", \"isAlive\": true, \"age\": 27, \"address\": {\"streetAddress\": \"21 2nd Street\", \"city\": \"New York\", \"state\": \"NY\", \"postalCode\": \"10021-3100\"}, \"hasMortgage\": null}'"
      ]
     },
     "execution_count": 37,
     "metadata": {},
     "output_type": "execute_result"
    }
   ],
   "source": [
    "open('C:\\\\Users\\\\hcluser1\\\\Data_J_X\\\\person.json', 'r').read()   # reading JSON object as string"
   ]
  },
  {
   "cell_type": "code",
   "execution_count": 38,
   "metadata": {},
   "outputs": [
    {
     "data": {
      "text/plain": [
       "str"
      ]
     },
     "execution_count": 38,
     "metadata": {},
     "output_type": "execute_result"
    }
   ],
   "source": [
    "type(open('C:\\\\Users\\\\hcluser1\\\\Data_J_X\\\\person.json', 'r').read())"
   ]
  },
  {
   "cell_type": "markdown",
   "metadata": {},
   "source": [
    "# dumps()\n",
    "The dumps() function works exactly like dump() but instead of sending the output to a file-like object, it returns the output as a string."
   ]
  },
  {
   "cell_type": "code",
   "execution_count": 39,
   "metadata": {},
   "outputs": [],
   "source": [
    "     import json\n",
    "\n",
    "     person = {\n",
    "         'first_name': \"John\",\n",
    "         \"isAlive\": True,\n",
    "         \"age\": 27,\n",
    "         \"address\": {\n",
    "             \"streetAddress\": \"21 2nd Street\",\n",
    "             \"city\": \"New York\",\n",
    "             \"state\": \"NY\",\n",
    "             \"postalCode\": \"10021-3100\"\n",
    "         },\n",
    "         \"hasMortgage\": None\n",
    "     }"
   ]
  },
  {
   "cell_type": "code",
   "execution_count": 46,
   "metadata": {},
   "outputs": [],
   "source": [
    "json_object = json.dumps(person)   # serialize"
   ]
  },
  {
   "cell_type": "code",
   "execution_count": 47,
   "metadata": {},
   "outputs": [
    {
     "data": {
      "text/plain": [
       "'{\"first_name\": \"John\", \"isAlive\": true, \"age\": 27, \"address\": {\"streetAddress\": \"21 2nd Street\", \"city\": \"New York\", \"state\": \"NY\", \"postalCode\": \"10021-3100\"}, \"hasMortgage\": null}'"
      ]
     },
     "execution_count": 47,
     "metadata": {},
     "output_type": "execute_result"
    }
   ],
   "source": [
    "json_object"
   ]
  },
  {
   "cell_type": "code",
   "execution_count": 48,
   "metadata": {},
   "outputs": [],
   "source": [
    "person = json.loads(json_object)  # deserialize from string"
   ]
  },
  {
   "cell_type": "code",
   "execution_count": 49,
   "metadata": {},
   "outputs": [
    {
     "data": {
      "text/plain": [
       "{'first_name': 'John',\n",
       " 'isAlive': True,\n",
       " 'age': 27,\n",
       " 'address': {'streetAddress': '21 2nd Street',\n",
       "  'city': 'New York',\n",
       "  'state': 'NY',\n",
       "  'postalCode': '10021-3100'},\n",
       " 'hasMortgage': None}"
      ]
     },
     "execution_count": 49,
     "metadata": {},
     "output_type": "execute_result"
    }
   ],
   "source": [
    "person"
   ]
  },
  {
   "cell_type": "code",
   "execution_count": 44,
   "metadata": {},
   "outputs": [
    {
     "data": {
      "text/plain": [
       "dict"
      ]
     },
     "execution_count": 44,
     "metadata": {},
     "output_type": "execute_result"
    }
   ],
   "source": [
    "type(person)"
   ]
  },
  {
   "cell_type": "code",
   "execution_count": 50,
   "metadata": {},
   "outputs": [],
   "source": [
    "# Writing to sample.json\n",
    "with open(\"C:\\\\Users\\\\hcluser1\\\\Data_J_X\\\\sample.json\", \"w\") as outfile:\n",
    "    outfile.write(json_object)"
   ]
  },
  {
   "cell_type": "code",
   "execution_count": null,
   "metadata": {},
   "outputs": [],
   "source": []
  },
  {
   "cell_type": "markdown",
   "metadata": {},
   "source": [
    "# Convert JSon file to CSV\n"
   ]
  },
  {
   "cell_type": "code",
   "execution_count": 9,
   "metadata": {},
   "outputs": [],
   "source": [
    "import pandas as pd\n",
    "df = pd.read_json (r'C:\\\\Users\\\\hcluser1\\\\Data_J_X\\\\Marks.json')\n",
    "export_csv = df.to_csv (r'C:\\\\Users\\\\hcluser1\\\\Data_J_X\\\\New_Marks_J_C_1.csv', index = None, header=True)"
   ]
  },
  {
   "cell_type": "markdown",
   "metadata": {},
   "source": [
    "# Convert CSV file to JSON"
   ]
  },
  {
   "cell_type": "code",
   "execution_count": 51,
   "metadata": {},
   "outputs": [],
   "source": [
    "import pandas as pd\n",
    "df = pd.read_csv (r'C:\\\\Users\\\\hcluser1\\\\Data_J_X\\\\New_Marks.csv')\n",
    "df.to_json (r'C:\\\\Users\\\\hcluser1\\\\Data_J_X\\\\Marks_C_J.json')"
   ]
  },
  {
   "cell_type": "code",
   "execution_count": 52,
   "metadata": {},
   "outputs": [
    {
     "name": "stdout",
     "output_type": "stream",
     "text": [
      "     id   name  math  physics  chemistry\n",
      "0  A001  RAHUL    60       66         61\n",
      "1  A002  NIBTA    89       76         51\n",
      "     id   name  math  physics  chemistry\n",
      "0  A001  RAHUL    60       66         61\n",
      "1  A002  NIBTA    89       76         51\n"
     ]
    }
   ],
   "source": [
    "import pandas as pd\n",
    "data = pd.read_csv(\"C:\\\\Users\\\\hcluser1\\\\Data_J_X\\\\New_Marks.csv\", sep=\",\")\n",
    "print(data.head(2))\n",
    "with open('C:\\\\Users\\\\hcluser1\\\\Data_J_X\\\\New_Marks_C_J.json', 'w') as f:\n",
    "    f.write(data.to_json(orient='records', lines=True))\n",
    "\n",
    "# check\n",
    "data = pd.read_json(\"C:\\\\Users\\\\hcluser1\\\\Data_J_X\\\\New_Marks_C_J.json\", lines=True)\n",
    "print(data.head(2))"
   ]
  },
  {
   "cell_type": "code",
   "execution_count": null,
   "metadata": {},
   "outputs": [],
   "source": []
  }
 ],
 "metadata": {
  "kernelspec": {
   "display_name": "Python 3",
   "language": "python",
   "name": "python3"
  },
  "language_info": {
   "codemirror_mode": {
    "name": "ipython",
    "version": 3
   },
   "file_extension": ".py",
   "mimetype": "text/x-python",
   "name": "python",
   "nbconvert_exporter": "python",
   "pygments_lexer": "ipython3",
   "version": "3.7.3"
  }
 },
 "nbformat": 4,
 "nbformat_minor": 2
}
