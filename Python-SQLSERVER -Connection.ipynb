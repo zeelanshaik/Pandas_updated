{
 "cells": [
  {
   "cell_type": "code",
   "execution_count": null,
   "metadata": {},
   "outputs": [],
   "source": [
    "import os\n",
    "import sys\n",
    "import pandas as pd\n",
    "import numpy as np\n",
    "import pyodbc as p\n",
    "import glob\n",
    "import datetime as dt\n",
    "from datetime import datetime\n",
    "import shutil\n",
    "today = datetime.now()\n",
    "from datetime import date\n",
    "from sqlalchemy import create_engine\n",
    "from sqlalchemy.orm import scoped_session, sessionmaker\n",
    "from sqlalchemy.ext.declarative import declarative_base\n",
    "from pyxlsb import open_workbook as open_xlsb\n",
    "import pyodbc\n",
    "conn = pyodbc.connect(\"Driver={SQL Server};\"\n",
    "                      \"Server=;\"\n",
    "                      \"Database=;\"\n",
    "                      \"Trusted_Connection=yes;\")\n",
    "print(\"hi1\")\n",
    "cursor = conn.cursor()\n",
    "cursor.execute('SELECT * from AnalysisJobTable')\n",
    "print(\"hi\")\n",
    " \n",
    "for row in cursor:\n",
    "    print('row = %r' % (row,))\n",
    " \n",
    "cursor.close();\n",
    "conn.close();"
   ]
  },
  {
   "cell_type": "code",
   "execution_count": null,
   "metadata": {},
   "outputs": [],
   "source": []
  }
 ],
 "metadata": {
  "kernelspec": {
   "display_name": "Python 3",
   "language": "python",
   "name": "python3"
  },
  "language_info": {
   "codemirror_mode": {
    "name": "ipython",
    "version": 3
   },
   "file_extension": ".py",
   "mimetype": "text/x-python",
   "name": "python",
   "nbconvert_exporter": "python",
   "pygments_lexer": "ipython3",
   "version": "3.7.3"
  }
 },
 "nbformat": 4,
 "nbformat_minor": 2
}
