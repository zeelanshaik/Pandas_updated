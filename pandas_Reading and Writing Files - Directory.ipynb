{
 "cells": [
  {
   "cell_type": "markdown",
   "metadata": {},
   "source": [
    "# Reading, writing CSV and Excel file <br>"
   ]
  },
  {
   "cell_type": "markdown",
   "metadata": {},
   "source": [
    "# Glob\n",
    "The python module glob provides Unix style pathname pattern expansion. Therefore, using glob.glob('*.xlsx') will give us all the .xlsx files in a directory as a list.\n",
    "\n",
    "When many file names have a similar pattern, that glob module from the Python Standard Library is very useful."
   ]
  },
  {
   "cell_type": "markdown",
   "metadata": {},
   "source": [
    "# These filename patterns can be made using different wildcards like  “*” (for matching multiple characters), “?” (for matching any single character), or ‘[0-9]’ (for matching any number). Let’s see glob in action below."
   ]
  },
  {
   "cell_type": "code",
   "execution_count": 2,
   "metadata": {},
   "outputs": [
    {
     "name": "stdout",
     "output_type": "stream",
     "text": [
      "['Focussed Training Status Report RAG -FSDN- Batch-2- 14th Oct.xlsx', 'Focussed Training Status Report RAG -FSDN- Batch-3- 14th Oct.xlsx', 'Focussed training status report_FY20_JAS B1_JavaFullStack_Oct 10.xlsx', 'Focussed training status report_FY20_JAS B2_JavaFullStack_Oct 11.xlsx', 'Focussed training status report_FY20_JAS B3_JavaFullStack_14-Oct.xlsx', 'Focussed training status report_FY20_JAS_Mule_Batch_1.xlsx', 'Focussed training status report_FY20_JAS_UIFS_Combined.xlsx', 'JAS_Focused_Training_Nominations _Dotnet_FS_CHN_Batch1.xlsx', 'Weekly Status - FY20_JAS_Hadoop_01.xlsx']\n"
     ]
    }
   ],
   "source": [
    "import pandas as pd\n",
    "import os\n",
    "import glob\n",
    "import numpy as np\n",
    "\n",
    "# Step 1: get a list of all csv files in target directory\n",
    "my_dir = \"C:\\DNA\\FocusTraining\\SourceFiles\\\\\"\n",
    "filelist = []\n",
    "filesList = []\n",
    "PfilesList = []\n",
    "NfilesList = []\n",
    "os.chdir( my_dir )\n",
    "\n",
    "# Step 2: Build up list of files:\n",
    "for files in glob.glob(\"*.xlsx\"):\n",
    "    fileName, fileExtension = os.path.splitext(files)\n",
    "    filesList.append(files) #filename with extension\n",
    "    \n",
    "    \n",
    "#print(filelist)\n",
    "print(filesList)\n",
    "#print(PfilesList)\n",
    "#print(NfilesList)"
   ]
  },
  {
   "cell_type": "code",
   "execution_count": 8,
   "metadata": {},
   "outputs": [
    {
     "name": "stdout",
     "output_type": "stream",
     "text": [
      "Focussed Training Status Report RAG -FSDN- Batch-2- 14th Oct.xlsx\n",
      "(250, 24)\n",
      "Index(['Batch', 'Training Start', 'Training Planned', 'Vertical', 'PLOB',\n",
      "       'Engagement', 'Employee ID', 'Employee Name', 'Band', 'Current Skill',\n",
      "       'Target Skill', 'Week', 'Attendance', 'Theory', 'Hands-on',\n",
      "       'Assessment %', 'Overall', 'Remarks', '% complete', 'SPOC',\n",
      "       'Training Completed (Y/N)', 'Training Complete Date',\n",
      "       'Certification (Foundation / Associate)', 'Final Assessment Score'],\n",
      "      dtype='object')\n",
      "11\n",
      "(250, 26)\n",
      "(21, 26)\n",
      "Focussed Training Status Report RAG -FSDN- Batch-3- 14th Oct.xlsx\n",
      "(172, 24)\n",
      "Index(['Batch', 'Training Start', 'Training Planned', 'Vertical', 'PLOB',\n",
      "       'Engagement', 'Employee ID', 'Employee Name', 'Band', 'Current Skill',\n",
      "       'Target Skill', 'Week', 'Attendance', 'Theory', 'Hands-on',\n",
      "       'Assessment %', 'Overall', 'Remarks', '% complete', 'SPOC',\n",
      "       'Training Completed (Y/N)', 'Training Complete Date',\n",
      "       'Certification (Foundation / Associate)', 'Final Assessment Score'],\n",
      "      dtype='object')\n",
      "7\n",
      "(172, 26)\n",
      "(24, 26)\n",
      "Focussed training status report_FY20_JAS B1_JavaFullStack_Oct 10.xlsx\n",
      "(386, 24)\n",
      "Index(['Batch', 'Training Start', 'Training Planned', 'Vertical', 'PLOB',\n",
      "       'Engagement', 'Employee ID', 'Employee Name', 'Band', 'Current Skill',\n",
      "       'Target Skill', 'Week', 'Attendance', 'Theory', 'Hands-on',\n",
      "       'Assessment %', 'Overall', 'Training Completed (Y/N)',\n",
      "       'Training Complete Date', 'Certification (Foundation / Associate)',\n",
      "       'Final Assessment Score', 'Remarks', '% complete', 'SPOC'],\n",
      "      dtype='object')\n",
      "14\n",
      "(386, 26)\n",
      "(26, 26)\n",
      "Focussed training status report_FY20_JAS B2_JavaFullStack_Oct 11.xlsx\n",
      "(156, 24)\n",
      "Index(['Batch', 'Training Start', 'Training Planned', 'Vertical', 'PLOB',\n",
      "       'Engagement', 'Employee ID', 'Employee Name', 'Band', 'Current Skill',\n",
      "       'Target Skill', 'Week', 'Attendance', 'Theory', 'Hands-on',\n",
      "       'Assessment %', 'Overall', 'Training Completed (Y/N)',\n",
      "       'Training Complete Date', 'Certification (Foundation / Associate)',\n",
      "       'Final Assessment Score', 'Remarks', '% complete', 'SPOC'],\n",
      "      dtype='object')\n",
      "7\n",
      "(156, 26)\n",
      "(22, 26)\n",
      "Focussed training status report_FY20_JAS B3_JavaFullStack_14-Oct.xlsx\n",
      "(184, 23)\n",
      "Index(['Batch', 'Training Start', 'Training Planned', 'Vertical', 'PLOB',\n",
      "       'Account Name', 'Employee ID', 'Employee Name', 'Band', 'Target Skill',\n",
      "       'Week', 'Attendance', 'Theory', 'Hands-on', 'Assessment %', 'Overall',\n",
      "       'Training Completed (Y/N)', 'Training Complete Date',\n",
      "       'Certification (Foundation / Associate)', 'Final Assessment Score',\n",
      "       'Remarks', '% complete', 'SPOC'],\n",
      "      dtype='object')\n",
      "7\n",
      "(184, 25)\n",
      "(26, 25)\n",
      "Focussed training status report_FY20_JAS_Mule_Batch_1.xlsx\n",
      "(48, 24)\n",
      "Index(['Batch', 'Training Start', 'Training Planned', 'Vertical', 'PLOB',\n",
      "       'Engagement', 'Employee ID', 'Employee Name', 'Band', 'Current Skill',\n",
      "       'Target Skill', 'Week', 'Attendance', 'Theory', 'Hands-on',\n",
      "       'Assessment %', 'Overall', 'Training Completed (Y/N)',\n",
      "       'Training Complete Date', 'Certification (Foundation / Associate)',\n",
      "       'Final Assessment Score', 'Remarks', '% complete', 'SPOC'],\n",
      "      dtype='object')\n",
      "5\n",
      "(48, 26)\n",
      "(16, 26)\n",
      "Focussed training status report_FY20_JAS_UIFS_Combined.xlsx\n",
      "(118, 24)\n",
      "Index(['Batch', 'Training Start', 'Training Planned', 'Vertical', 'PLOB',\n",
      "       'Engagement', 'Employee ID', 'Employee Name', 'Band', 'Current Skill',\n",
      "       'Target Skill', 'Week', 'Attendance', 'Theory', 'Hands-on',\n",
      "       'Assessment %', 'Overall', 'Training Completed (Y/N)',\n",
      "       'Training Complete Date', 'Certification (Foundation / Associate)',\n",
      "       'Final Assessment Score', 'Remarks', '% complete', 'SPOC'],\n",
      "      dtype='object')\n",
      "6\n",
      "(118, 26)\n",
      "(29, 26)\n",
      "JAS_Focused_Training_Nominations _Dotnet_FS_CHN_Batch1.xlsx\n",
      "(168, 24)\n",
      "Index(['Batch', 'Training Start', 'Training Planned', 'PLOB', 'Vertical',\n",
      "       'Engagement', 'Employee ID', 'Employee Name', 'Band', 'Current Skill',\n",
      "       'Target Skill', 'Week', 'Attendance', 'Theory', 'Hands-on',\n",
      "       'Assessment %', 'Overall', 'Remarks', 'SPOC', '% complete',\n",
      "       'Training Completed (Y/N)', 'Training Complete Date',\n",
      "       'Certification (Foundation / Associate)', 'Final Assessment Score'],\n",
      "      dtype='object')\n",
      "8\n",
      "(168, 26)\n",
      "(21, 26)\n",
      "Weekly Status - FY20_JAS_Hadoop_01.xlsx\n",
      "(170, 24)\n",
      "Index(['Batch', 'Training Start', 'Training Planned', 'Vertical', 'PLOB',\n",
      "       'Engagement', 'Employee ID', 'Employee Name', 'Band', 'Current Skill',\n",
      "       'Target Skill', 'Week', 'Attendance', 'Theory', 'Hands-on',\n",
      "       'Assessment %', 'Overall', 'Remarks', '% complete', 'SPOC',\n",
      "       'Training Completed (Y/N)', 'Training Complete Date',\n",
      "       'Certification (Foundation / Associate)', 'Final Assessment Score'],\n",
      "      dtype='object')\n",
      "99\n",
      "(170, 26)\n",
      "(11, 26)\n"
     ]
    }
   ],
   "source": [
    "#To read each file and filter latest records and create single file\n",
    "df = pd.DataFrame()\n",
    "for f in filesList:\n",
    "    data = pd.read_excel(f, 'Status',index=False)\n",
    "    print(f)\n",
    "    print(data.shape)\n",
    "    print(data.columns)\n",
    "    data[\"WeekN\"] = data[\"Week\"]\n",
    "    data[\"WeekN\"].fillna(\"Week99\", inplace = True)\n",
    "   \n",
    "    #Extract number from String \n",
    "    data['WeekNo']= data.WeekN.str.extract(r'([\\d]+)',expand=False)\n",
    "    data['WeekNo']= data.WeekNo.astype(int)\n",
    "    print(data.WeekNo.max()) \n",
    "   \n",
    "    #fliter latest week data\n",
    "    dfN= data[data.WeekNo == data.WeekNo.max()]\n",
    "    print(data.shape)\n",
    "    print(dfN.shape)\n",
    "    \n",
    "\n",
    "    df = df.append(dfN,sort=False)"
   ]
  },
  {
   "cell_type": "code",
   "execution_count": 4,
   "metadata": {},
   "outputs": [
    {
     "data": {
      "text/plain": [
       "(196, 27)"
      ]
     },
     "execution_count": 4,
     "metadata": {},
     "output_type": "execute_result"
    }
   ],
   "source": [
    "df.shape"
   ]
  },
  {
   "cell_type": "code",
   "execution_count": 9,
   "metadata": {},
   "outputs": [
    {
     "name": "stdout",
     "output_type": "stream",
     "text": [
      "No Coversion in current\n",
      "object\n"
     ]
    }
   ],
   "source": [
    "df=df.rename( columns={ \"Employee ID\":\"EmployeeID\"})\n",
    "if(df['EmployeeID'].dtype == np.float64 or df['EmployeeID'].dtype == np.int64):\n",
    "\n",
    "         print(df.dtypes.EmployeeID)\n",
    "         df['EmployeeID'] = df['EmployeeID'].astype(str)\n",
    "         print(df.dtypes.EmployeeID)\n",
    "         \n",
    "else:\n",
    "         print(\"No Coversion in current\") \n",
    "         print(df.dtypes.EmployeeID)\n",
    "\n",
    "df=df.rename( columns={ \"EmployeeID\":\"Employee ID\"})"
   ]
  },
  {
   "cell_type": "code",
   "execution_count": 10,
   "metadata": {},
   "outputs": [
    {
     "name": "stdout",
     "output_type": "stream",
     "text": [
      "(196, 27)\n",
      "Index(['Batch', 'Training Start', 'Training Planned', 'Vertical', 'PLOB',\n",
      "       'Engagement', 'Employee ID', 'Employee Name', 'Band', 'Current Skill',\n",
      "       'Target Skill', 'Week', 'Attendance', 'Theory', 'Hands-on',\n",
      "       'Assessment %', 'Overall', 'Remarks', '% complete', 'SPOC',\n",
      "       'Training Completed (Y/N)', 'Training Complete Date',\n",
      "       'Certification (Foundation / Associate)', 'Final Assessment Score',\n",
      "       'WeekN', 'WeekNo', 'Account Name'],\n",
      "      dtype='object')\n",
      "(196, 26)\n",
      "Index(['Batch', 'Training Start', 'Training Planned', 'Revised Vertical',\n",
      "       'PLOB', 'LeasePlan', 'Employee ID', 'Employee Name', 'Band',\n",
      "       'Current Skill', 'Target Skill', 'Week', 'Attendance', 'Theory',\n",
      "       'Hands-on', 'Assessment %', 'Overall', 'Remarks', '% complete', 'SPOC',\n",
      "       'Training Completed (Y/N)', 'Training Complete Date',\n",
      "       'Certification (Foundation / Associate)', 'Final Assessment Score',\n",
      "       'Account Name', 'Account'],\n",
      "      dtype='object')\n"
     ]
    }
   ],
   "source": [
    "print(df.shape)\n",
    "print(df.columns)\n",
    "df=df.rename( columns={ \"Vertical\":\"Revised Vertical\",\"Engagement\":\"LeasePlan\"})\n",
    "df['Account'] = df['LeasePlan']\n",
    "df.drop([\"WeekN\", \"WeekNo\"], axis=1,inplace=True)\n",
    "df.to_excel(r\"C:\\DNA\\FocusTraining\\output\\CurrentRecords.xlsx\")\n",
    "print(df.shape)\n",
    "print(df.columns)\n",
    "# To create logic for update in master file LCOMPLETE \n",
    "dfC=df"
   ]
  },
  {
   "cell_type": "code",
   "execution_count": null,
   "metadata": {},
   "outputs": [],
   "source": []
  }
 ],
 "metadata": {
  "kernelspec": {
   "display_name": "Python 3",
   "language": "python",
   "name": "python3"
  },
  "language_info": {
   "codemirror_mode": {
    "name": "ipython",
    "version": 3
   },
   "file_extension": ".py",
   "mimetype": "text/x-python",
   "name": "python",
   "nbconvert_exporter": "python",
   "pygments_lexer": "ipython3",
   "version": "3.7.3"
  }
 },
 "nbformat": 4,
 "nbformat_minor": 2
}
