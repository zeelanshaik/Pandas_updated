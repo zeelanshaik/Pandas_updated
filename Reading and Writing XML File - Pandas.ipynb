{
 "cells": [
  {
   "cell_type": "code",
   "execution_count": 1,
   "metadata": {},
   "outputs": [],
   "source": [
    "from bs4 import BeautifulSoup"
   ]
  },
  {
   "cell_type": "markdown",
   "metadata": {},
   "source": [
    "# XML (Extensible Markup Language) \n",
    "\n",
    "is a markup language used to store structured data. The Pandas data analysis library provides functions to read/write data for most of the file types.\n",
    "\n",
    "For example, it includes read_csv() and to_csv() for interacting with CSV files. However, Pandas does not include any methods to read and write XML files."
   ]
  },
  {
   "cell_type": "markdown",
   "metadata": {},
   "source": [
    "Unfortunately there is no method in pandas library convert xml file to a dataframe easily. So, you need to do it yourself. You can do it by using the etree module in python.\n",
    "\n",
    "You would need to firstly parse an XML file and create a list of columns for data frame. then extract useful information from the XML file and add to a pandas data frame."
   ]
  },
  {
   "cell_type": "markdown",
   "metadata": {},
   "source": [
    "# Python provides many libraries for working with xml files such as \n",
    "\n",
    "lxml: It is a clean, fast and strict library for dealing with xml files. It's also the most accepted library. It also supports xpath and xslt.\n",
    "\n",
    "BeautifulSoup: It is flexible but a bit slower than lxml. The good thing is if your xml markup is messed up, it will try to correct it. It's perfect for dealing with web scrapped data in HTML formats. For clean xml, it might be too slow. \n",
    "\n",
    "\n",
    "REST API - Server & Clientsxml : It has native integration in Python and is fast & clean but do not support xpath and xslt. "
   ]
  },
  {
   "cell_type": "markdown",
   "metadata": {},
   "source": [
    "# Reading with xml.etree.ElementTree"
   ]
  },
  {
   "cell_type": "markdown",
   "metadata": {},
   "source": [
    "The xml.etree.ElementTree module comes built-in with Python. It provides functionality for parsing and creating XML documents. ElementTree represents the XML document as a tree. We can move across the document using nodes which are elements and sub-elements of the XML file.\n",
    "\n",
    "In this approach, we read the file content in a variable and use ET.XML() to parse the XML document from the string constant. We will loop across each child and sub child maintaining a list of data they contain. Meanwhile, writing child tags for the DataFrame column. Then we write this data into a DataFrame.\n",
    "\n",
    "Note: When reading data from XML, we have to transpose the DataFrame, as the data list's sub-elements are written in columns."
   ]
  },
  {
   "cell_type": "code",
   "execution_count": 2,
   "metadata": {},
   "outputs": [
    {
     "name": "stdout",
     "output_type": "stream",
     "text": [
      "<lxml.etree._ElementTree object at 0x000001F241BBBA88> ['__class__', '__copy__', '__deepcopy__', '__delattr__', '__dir__', '__doc__', '__eq__', '__format__', '__ge__', '__getattribute__', '__gt__', '__hash__', '__init__', '__init_subclass__', '__le__', '__lt__', '__ne__', '__new__', '__pyx_vtable__', '__reduce__', '__reduce_ex__', '__repr__', '__setattr__', '__sizeof__', '__str__', '__subclasshook__', '_setroot', 'docinfo', 'find', 'findall', 'findtext', 'getelementpath', 'getiterator', 'getpath', 'getroot', 'iter', 'iterfind', 'parse', 'parser', 'relaxng', 'write', 'write_c14n', 'xinclude', 'xmlschema', 'xpath', 'xslt']\n"
     ]
    }
   ],
   "source": [
    "#From file to XML object\n",
    "from lxml import etree\n",
    "\n",
    "with open(\"C:\\\\Users\\\\hcluser1\\\\DataXML\\\\books.xml\") as fxml:    \n",
    "    parsed = etree.parse(fxml)\n",
    "\n",
    "print(parsed, dir(parsed))"
   ]
  },
  {
   "cell_type": "code",
   "execution_count": 6,
   "metadata": {},
   "outputs": [
    {
     "name": "stdout",
     "output_type": "stream",
     "text": [
      "<lxml.etree._ElementTree object at 0x000001F241C043C8>\n"
     ]
    }
   ],
   "source": [
    "#we obtained an instance of type lxml.etree._ElementTree\n",
    "# New etree parser, with empty text nodes removed\n",
    "\n",
    "parser = etree.XMLParser(remove_blank_text=True)\n",
    "\n",
    "with open(\"C:\\\\Users\\\\hcluser1\\\\DataXML\\\\books.xml\") as file:\n",
    "    parsed = etree.parse(file, parser)\n",
    "\n",
    "print(parsed)"
   ]
  },
  {
   "cell_type": "markdown",
   "metadata": {},
   "source": [
    "# Traversing the Parsed Tree\n",
    " To visit all of the children in order, use iter() to create a generator that iterates over the ElementTree instance."
   ]
  },
  {
   "cell_type": "code",
   "execution_count": 7,
   "metadata": {},
   "outputs": [
    {
     "name": "stdout",
     "output_type": "stream",
     "text": [
      "catalog {}\n",
      "-----\n",
      "book {'id': 'bk101'}\n",
      "-----\n",
      "author {}\n",
      "-----\n",
      "title {}\n",
      "-----\n",
      "genre {}\n",
      "-----\n",
      "book {'part': '2'}\n",
      "-----\n",
      "price {}\n",
      "-----\n",
      "publish_date {}\n",
      "-----\n",
      "description {}\n",
      "-----\n",
      "book {'id': 'bk102'}\n",
      "-----\n",
      "author {}\n",
      "-----\n",
      "title {}\n",
      "-----\n",
      "genre {}\n",
      "-----\n",
      "price {}\n",
      "-----\n",
      "publish_date {}\n",
      "-----\n",
      "description {}\n",
      "-----\n",
      "book {'id': 'bk103'}\n",
      "-----\n",
      "author {}\n",
      "-----\n",
      "title {}\n",
      "-----\n",
      "genre {}\n",
      "-----\n",
      "price {}\n",
      "-----\n",
      "publish_date {}\n",
      "-----\n",
      "description {}\n",
      "-----\n",
      "book {'id': 'bk104'}\n",
      "-----\n",
      "author {}\n",
      "-----\n",
      "title {}\n",
      "-----\n",
      "genre {}\n",
      "-----\n",
      "price {}\n",
      "-----\n",
      "publish_date {}\n",
      "-----\n",
      "description {}\n",
      "-----\n",
      "book {'id': 'bk105'}\n",
      "-----\n",
      "author {}\n",
      "-----\n",
      "title {}\n",
      "-----\n",
      "genre {}\n",
      "-----\n",
      "price {}\n",
      "-----\n",
      "publish_date {}\n",
      "-----\n",
      "description {}\n",
      "-----\n",
      "book {'id': 'bk106'}\n",
      "-----\n",
      "author {}\n",
      "-----\n",
      "title {}\n",
      "-----\n",
      "genre {}\n",
      "-----\n",
      "price {}\n",
      "-----\n",
      "publish_date {}\n",
      "-----\n",
      "description {}\n",
      "-----\n",
      "book {'id': 'bk107'}\n",
      "-----\n",
      "author {}\n",
      "-----\n",
      "title {}\n",
      "-----\n",
      "genre {}\n",
      "-----\n",
      "price {}\n",
      "-----\n",
      "publish_date {}\n",
      "-----\n",
      "description {}\n",
      "-----\n",
      "book {'id': 'bk108'}\n",
      "-----\n",
      "author {}\n",
      "-----\n",
      "title {}\n",
      "-----\n",
      "genre {}\n",
      "-----\n",
      "price {}\n",
      "-----\n",
      "publish_date {}\n",
      "-----\n",
      "description {}\n",
      "-----\n",
      "book {'id': 'bk109'}\n",
      "-----\n",
      "author {}\n",
      "-----\n",
      "title {}\n",
      "-----\n",
      "genre {}\n",
      "-----\n",
      "price {}\n",
      "-----\n",
      "publish_date {}\n",
      "-----\n",
      "description {}\n",
      "-----\n",
      "book {'id': 'bk110'}\n",
      "-----\n",
      "author {}\n",
      "-----\n",
      "title {}\n",
      "-----\n",
      "genre {}\n",
      "-----\n",
      "price {}\n",
      "-----\n",
      "publish_date {}\n",
      "-----\n",
      "description {}\n",
      "-----\n",
      "book {'id': 'bk111'}\n",
      "-----\n",
      "author {}\n",
      "-----\n",
      "title {}\n",
      "-----\n",
      "genre {}\n",
      "-----\n",
      "price {}\n",
      "-----\n",
      "publish_date {}\n",
      "-----\n",
      "description {}\n",
      "-----\n",
      "book {'id': 'bk112'}\n",
      "-----\n",
      "author {}\n",
      "-----\n",
      "title {}\n",
      "-----\n",
      "genre {}\n",
      "-----\n",
      "price {}\n",
      "-----\n",
      "publish_date {}\n",
      "-----\n",
      "description {}\n",
      "-----\n"
     ]
    }
   ],
   "source": [
    "from xml.etree import ElementTree\n",
    "\n",
    "    \n",
    "with open('C:\\\\Users\\\\hcluser1\\\\DataXML\\\\books.xml', 'r') as f:\n",
    "    tree = ElementTree.parse(f)\n",
    "\n",
    "\n",
    "\n",
    "for node in tree.iter():\n",
    "    print (node.tag, node.attrib)\n",
    "    print(\"-----\")"
   ]
  },
  {
   "cell_type": "code",
   "execution_count": 8,
   "metadata": {},
   "outputs": [
    {
     "name": "stdout",
     "output_type": "stream",
     "text": [
      "catalog {}\n",
      "-----\n",
      "book {'id': 'bk101'}\n",
      "-----\n",
      "author {}\n",
      "-----\n",
      "title {}\n",
      "-----\n",
      "genre {}\n",
      "-----\n"
     ]
    }
   ],
   "source": [
    "# only getting 5 elements from the generator\n",
    "from itertools import islice\n",
    "\n",
    "for node in islice(tree.iter(), 5):\n",
    "    print (node.tag, node.attrib)\n",
    "    print(\"-----\")\n",
    "   "
   ]
  },
  {
   "cell_type": "code",
   "execution_count": 9,
   "metadata": {},
   "outputs": [
    {
     "name": "stdout",
     "output_type": "stream",
     "text": [
      "Gambardella, Matthew\n",
      "Ralls, Kim\n",
      "Corets, Eva\n",
      "Corets, Eva\n",
      "Corets, Eva\n",
      "Randall, Cynthia\n",
      "Thurman, Paula\n",
      "Knorr, Stefan\n",
      "Kress, Peter\n",
      "O'Brien, Tim\n",
      "O'Brien, Tim\n",
      "Galos, Mike\n"
     ]
    }
   ],
   "source": [
    "from xml.etree import ElementTree\n",
    "\n",
    "    \n",
    "with open('C:\\\\Users\\\\hcluser1\\\\DataXML\\\\books.xml', 'r') as f:\n",
    "    tree = ElementTree.parse(f)\n",
    "\n",
    "\n",
    "#Here, we create an ElementTree object by parsing the passed xmlfile.\n",
    "\n",
    "root = tree.getroot()\n",
    "#getroot() function return the root of tree as an Element object.\n",
    "\n",
    "for item in root:\n",
    "    Author_name = item.find(\"author\").text if node is not None else None\n",
    "    print(Author_name)"
   ]
  },
  {
   "cell_type": "code",
   "execution_count": 10,
   "metadata": {},
   "outputs": [
    {
     "data": {
      "text/html": [
       "<div>\n",
       "<style scoped>\n",
       "    .dataframe tbody tr th:only-of-type {\n",
       "        vertical-align: middle;\n",
       "    }\n",
       "\n",
       "    .dataframe tbody tr th {\n",
       "        vertical-align: top;\n",
       "    }\n",
       "\n",
       "    .dataframe thead th {\n",
       "        text-align: right;\n",
       "    }\n",
       "</style>\n",
       "<table border=\"1\" class=\"dataframe\">\n",
       "  <thead>\n",
       "    <tr style=\"text-align: right;\">\n",
       "      <th></th>\n",
       "      <th>name</th>\n",
       "      <th>email</th>\n",
       "      <th>grade</th>\n",
       "      <th>age</th>\n",
       "    </tr>\n",
       "  </thead>\n",
       "  <tbody>\n",
       "    <tr>\n",
       "      <th>0</th>\n",
       "      <td>John</td>\n",
       "      <td>john@mail.com</td>\n",
       "      <td>A</td>\n",
       "      <td>16</td>\n",
       "    </tr>\n",
       "    <tr>\n",
       "      <th>1</th>\n",
       "      <td>Alice</td>\n",
       "      <td>alice@mail.com</td>\n",
       "      <td>B</td>\n",
       "      <td>17</td>\n",
       "    </tr>\n",
       "    <tr>\n",
       "      <th>2</th>\n",
       "      <td>Bob</td>\n",
       "      <td>bob@mail.com</td>\n",
       "      <td>C</td>\n",
       "      <td>16</td>\n",
       "    </tr>\n",
       "    <tr>\n",
       "      <th>3</th>\n",
       "      <td>Hannah</td>\n",
       "      <td>hannah@mail.com</td>\n",
       "      <td>A</td>\n",
       "      <td>17</td>\n",
       "    </tr>\n",
       "  </tbody>\n",
       "</table>\n",
       "</div>"
      ],
      "text/plain": [
       "     name            email grade age\n",
       "0    John    john@mail.com     A  16\n",
       "1   Alice   alice@mail.com     B  17\n",
       "2     Bob     bob@mail.com     C  16\n",
       "3  Hannah  hannah@mail.com     A  17"
      ]
     },
     "execution_count": 10,
     "metadata": {},
     "output_type": "execute_result"
    }
   ],
   "source": [
    "import pandas as pd \n",
    "import xml.etree.ElementTree as et \n",
    "\n",
    "#The parsing of our “students.xml” file starts at the root of the tree, namely the <data> element,\n",
    "#which contains the entire data structure.\n",
    "xtree = et.parse(\"C:\\\\Users\\\\hcluser1\\\\DataXML\\\\Students.xml\")\n",
    "xroot = xtree.getroot() \n",
    "\n",
    "df_cols = [\"name\", \"email\", \"grade\", \"age\"]\n",
    "rows = []\n",
    "\n",
    "#iterate through each node of the tree, which means we will get each student element and grab its name \n",
    "#attribute and all of its sub-elements to build our dataframe.\n",
    "#We can access the value of the attributes of an element via .attrib, just like we would access the information in a \n",
    "#Python dictionary, that is via key-based indexing. We know that our sonnet element, for instance, should have an author\n",
    "#and year attribute. We can inspect the value of these as follows:\n",
    "for node in xroot: \n",
    "    s_name = node.attrib.get(\"name\")\n",
    "    s_mail = node.find(\"email\").text if node is not None else None\n",
    "    s_grade = node.find(\"grade\").text if node is not None else None\n",
    "    s_age = node.find(\"age\").text if node is not None else None\n",
    "    \n",
    "    #get the name attribute, we use the attrib.get() function, while the text content of each element can be retrieved \n",
    "    #using the find() function of nodes.\n",
    "    \n",
    "    rows.append({\"name\": s_name, \"email\": s_mail, \n",
    "                 \"grade\": s_grade, \"age\": s_age})\n",
    "\n",
    "out_df = pd.DataFrame(rows, columns = df_cols)\n",
    "out_df"
   ]
  },
  {
   "cell_type": "markdown",
   "metadata": {},
   "source": [
    "# String to XML object\n",
    " lxml parses strings using fromstring function which is similar to parse which is used to parses files as shown in the below example."
   ]
  },
  {
   "cell_type": "code",
   "execution_count": 11,
   "metadata": {},
   "outputs": [
    {
     "name": "stdout",
     "output_type": "stream",
     "text": [
      "<Element root at 0x1f241c09c88>\n"
     ]
    }
   ],
   "source": [
    "xml = '<root xmlns:a=\"xmlns1\" xmlns:b=\"xmlns2\"><tag xmlns:c=\"xmlns3\" /><tag xmlns:a=\"xmlns1\" /><tag /></root>'\n",
    "parsed = etree.fromstring(xml)\n",
    "print(parsed)"
   ]
  },
  {
   "cell_type": "markdown",
   "metadata": {},
   "source": [
    "# Parsing Strings\n",
    " To work with smaller bits of XML text, especially string literals as might be embedded in the source of a program, use XML() and the string containing the XML to be parsed as the only argument."
   ]
  },
  {
   "cell_type": "code",
   "execution_count": 12,
   "metadata": {},
   "outputs": [
    {
     "name": "stdout",
     "output_type": "stream",
     "text": [
      "parsed = <Element 'root' at 0x000001F249BD5778>\n",
      "group\n",
      "group\n"
     ]
    }
   ],
   "source": [
    "from xml.etree.ElementTree import XML\n",
    "\n",
    "parsed = XML('''\n",
    "<root>\n",
    "  <group>\n",
    "    <child id=\"a\">This is child \"a\".</child>\n",
    "    <child id=\"b\">This is child \"b\".</child>\n",
    "  </group>\n",
    "  <group>\n",
    "    <child id=\"c\">This is child \"c\".</child>\n",
    "  </group>\n",
    "</root>\n",
    "''')\n",
    "\n",
    "print ('parsed =', parsed)\n",
    "\n",
    "for elem in parsed:\n",
    "    print (elem.tag)\n",
    "    if elem.text is not None and elem.text.strip():\n",
    "        print ('  text: \"%s\"' % elem.text)\n",
    "    if elem.tail is not None and elem.tail.strip():\n",
    "        print ('  tail: \"%s\"' % elem.tail)\n",
    "    for name, value in sorted(elem.attrib.items()):\n",
    "        print('  %-4s = \"%s\"' % (name, value))\n",
    "    print"
   ]
  },
  {
   "cell_type": "code",
   "execution_count": 14,
   "metadata": {},
   "outputs": [],
   "source": [
    "#Parsing XML with Namespaces\n",
    "xml_text = \"\"\"<?xml version=\"1.0\"?>\n",
    "<actors xmlns:fictional=\"http://characters.example.com\"\n",
    "        xmlns=\"http://people.example.com\">\n",
    "    <actor>\n",
    "        <name>John Cleese</name>\n",
    "        <fictional:character>Lancelot</fictional:character>\n",
    "        <fictional:character>Archie Leach</fictional:character>\n",
    "    </actor>\n",
    "    <actor>\n",
    "        <name>Eric Idle</name>\n",
    "        <fictional:character>Sir Robin</fictional:character>\n",
    "        <fictional:character>Gunther</fictional:character>\n",
    "        <fictional:character>Commander Clement</fictional:character>\n",
    "    </actor>\n",
    "</actors>\"\"\""
   ]
  },
  {
   "cell_type": "code",
   "execution_count": 20,
   "metadata": {},
   "outputs": [
    {
     "name": "stdout",
     "output_type": "stream",
     "text": [
      "John Cleese\n",
      "   |-> Lancelot\n",
      "   |-> Archie Leach\n",
      "Eric Idle\n",
      "   |-> Sir Robin\n",
      "   |-> Gunther\n",
      "   |-> Commander Clement\n"
     ]
    }
   ],
   "source": [
    "import xml.etree.ElementTree as ET\n",
    "root = ET.fromstring(xml_text)\n",
    "for actor in root.findall('{http://people.example.com}actor'):\n",
    "    name = actor.find('{http://people.example.com}name')\n",
    "    print(name.text)\n",
    "    for char in actor.findall('{http://characters.example.com}character'):\n",
    "        print('   |->', char.text)"
   ]
  },
  {
   "cell_type": "code",
   "execution_count": 16,
   "metadata": {},
   "outputs": [],
   "source": [
    "#Writing XML\n",
    "import xml.etree.ElementTree as gfg \n",
    "  \n",
    "  \n",
    "def GenerateXML(fileName) :\n",
    "      \n",
    "    root = gfg.Element(\"Catalog\")\n",
    "      \n",
    "    m1 = gfg.Element(\"mobile\")\n",
    "    root.append (m1)\n",
    "      \n",
    "    b1 = gfg.SubElement(m1, \"brand\")\n",
    "    b1.text = \"Redmi\"\n",
    "    b2 = gfg.SubElement(m1, \"price\")\n",
    "    b2.text = \"6999\"\n",
    "      \n",
    "    m2 = gfg.Element(\"mobile\")\n",
    "    root.append (m2)\n",
    "      \n",
    "    c1 = gfg.SubElement(m2, \"brand\")\n",
    "    c1.text = \"Samsung\"\n",
    "    c2 = gfg.SubElement(m2, \"price\")\n",
    "    c2.text = \"9999\"\n",
    "      \n",
    "    m3 = gfg.Element(\"mobile\")\n",
    "    root.append (m3)\n",
    "      \n",
    "    d1 = gfg.SubElement(m3, \"brand\")\n",
    "    d1.text = \"RealMe\"\n",
    "    d2 = gfg.SubElement(m3, \"price\")\n",
    "    d2.text = \"11999\"\n",
    "      \n",
    "    tree = gfg.ElementTree(root)\n",
    "      \n",
    "    with open (fileName, \"wb\") as files :\n",
    "        tree.write(files)\n",
    "  \n",
    "# Driver Code\n",
    "if __name__ == \"__main__\": \n",
    "    GenerateXML(\"C:\\\\Users\\\\hcluser1\\\\DataXML\\\\Catalog.xml\")"
   ]
  },
  {
   "cell_type": "code",
   "execution_count": 17,
   "metadata": {},
   "outputs": [
    {
     "name": "stdout",
     "output_type": "stream",
     "text": [
      "{'data': OrderedDict([('student', [OrderedDict([('@name', 'John'), ('email', 'john@mail.com'), ('grade', 'A'), ('age', '16')]), OrderedDict([('@name', 'Alice'), ('email', 'alice@mail.com'), ('grade', 'B'), ('age', '17')]), OrderedDict([('@name', 'Bob'), ('email', 'bob@mail.com'), ('grade', 'C'), ('age', '16')]), OrderedDict([('@name', 'Hannah'), ('email', 'hannah@mail.com'), ('grade', 'A'), ('age', '17')])])])}\n"
     ]
    }
   ],
   "source": [
    "#Convert XML to JSON\n",
    "import xml.etree.ElementTree as ET\n",
    "import xmltodict\n",
    "import json\n",
    "\n",
    "tree = ET.parse('C:\\\\Users\\\\hcluser1\\\\DataXML\\\\Students.xml')\n",
    "xml_data = tree.getroot()\n",
    "\n",
    "xmlstr = ET.tostring(xml_data, encoding='utf8', method='xml')\n",
    "\n",
    "\n",
    "data_dict = dict(xmltodict.parse(xmlstr))\n",
    "\n",
    "print(data_dict)\n",
    "\n",
    "with open('C:\\\\Users\\\\hcluser1\\\\DataXML\\\\Student_new_data.json', 'w+') as json_file:\n",
    "    json.dump(data_dict, json_file, indent=4, sort_keys=True)"
   ]
  },
  {
   "cell_type": "markdown",
   "metadata": {},
   "source": [
    "# Covert XML to CSV using Pandas"
   ]
  },
  {
   "cell_type": "code",
   "execution_count": 18,
   "metadata": {},
   "outputs": [
    {
     "data": {
      "text/html": [
       "<div>\n",
       "<style scoped>\n",
       "    .dataframe tbody tr th:only-of-type {\n",
       "        vertical-align: middle;\n",
       "    }\n",
       "\n",
       "    .dataframe tbody tr th {\n",
       "        vertical-align: top;\n",
       "    }\n",
       "\n",
       "    .dataframe thead th {\n",
       "        text-align: right;\n",
       "    }\n",
       "</style>\n",
       "<table border=\"1\" class=\"dataframe\">\n",
       "  <thead>\n",
       "    <tr style=\"text-align: right;\">\n",
       "      <th></th>\n",
       "      <th>name</th>\n",
       "      <th>email</th>\n",
       "      <th>grade</th>\n",
       "      <th>age</th>\n",
       "    </tr>\n",
       "  </thead>\n",
       "  <tbody>\n",
       "    <tr>\n",
       "      <th>0</th>\n",
       "      <td>John</td>\n",
       "      <td>john@mail.com</td>\n",
       "      <td>A</td>\n",
       "      <td>16</td>\n",
       "    </tr>\n",
       "    <tr>\n",
       "      <th>1</th>\n",
       "      <td>Alice</td>\n",
       "      <td>alice@mail.com</td>\n",
       "      <td>B</td>\n",
       "      <td>17</td>\n",
       "    </tr>\n",
       "    <tr>\n",
       "      <th>2</th>\n",
       "      <td>Bob</td>\n",
       "      <td>bob@mail.com</td>\n",
       "      <td>C</td>\n",
       "      <td>16</td>\n",
       "    </tr>\n",
       "    <tr>\n",
       "      <th>3</th>\n",
       "      <td>Hannah</td>\n",
       "      <td>hannah@mail.com</td>\n",
       "      <td>A</td>\n",
       "      <td>17</td>\n",
       "    </tr>\n",
       "  </tbody>\n",
       "</table>\n",
       "</div>"
      ],
      "text/plain": [
       "     name            email grade age\n",
       "0    John    john@mail.com     A  16\n",
       "1   Alice   alice@mail.com     B  17\n",
       "2     Bob     bob@mail.com     C  16\n",
       "3  Hannah  hannah@mail.com     A  17"
      ]
     },
     "execution_count": 18,
     "metadata": {},
     "output_type": "execute_result"
    }
   ],
   "source": [
    "import pandas as pd \n",
    "import xml.etree.ElementTree as et \n",
    "\n",
    "#The parsing of our “students.xml” file starts at the root of the tree, namely the <data> element,\n",
    "#which contains the entire data structure.\n",
    "xtree = et.parse(\"C:\\\\Users\\\\hcluser1\\\\DataXML\\\\Students.xml\")\n",
    "xroot = xtree.getroot() \n",
    "\n",
    "df_cols = [\"name\", \"email\", \"grade\", \"age\"]\n",
    "rows = []\n",
    "\n",
    "#iterate through each node of the tree, which means we will get each student element and grab its name \n",
    "#attribute and all of its sub-elements to build our dataframe.\n",
    "#We can access the value of the attributes of an element via .attrib, just like we would access the information in a \n",
    "#Python dictionary, that is via key-based indexing. We know that our sonnet element, for instance, should have an author\n",
    "#and year attribute. We can inspect the value of these as follows:\n",
    "for node in xroot: \n",
    "    s_name = node.attrib.get(\"name\")\n",
    "    s_mail = node.find(\"email\").text if node is not None else None\n",
    "    s_grade = node.find(\"grade\").text if node is not None else None\n",
    "    s_age = node.find(\"age\").text if node is not None else None\n",
    "    \n",
    "    #get the name attribute, we use the attrib.get() function, while the text content of each element can be retrieved \n",
    "    #using the find() function of nodes.\n",
    "    \n",
    "    rows.append({\"name\": s_name, \"email\": s_mail, \n",
    "                 \"grade\": s_grade, \"age\": s_age})\n",
    "\n",
    "out_df = pd.DataFrame(rows, columns = df_cols)\n",
    "out_df\n",
    "\n",
    "\n",
    "out_df.to_csv()\n",
    "\n",
    "\n",
    "\n"
   ]
  },
  {
   "cell_type": "markdown",
   "metadata": {},
   "source": [
    "# Reading XML using another method BeautifulSoup"
   ]
  },
  {
   "cell_type": "code",
   "execution_count": 19,
   "metadata": {},
   "outputs": [
    {
     "name": "stdout",
     "output_type": "stream",
     "text": [
      "Plant Name: \n",
      "     Bloodroot\n",
      "    \n",
      "Botanical Name:  \n",
      "     Sanguinaria canadensis\n",
      "    \n",
      "Price:  \n",
      "     $2.44\n",
      "    \n",
      "\n",
      "Plant Name: \n",
      "     Marsh Marigold\n",
      "    \n",
      "Botanical Name:  \n",
      "     Caltha palustris\n",
      "    \n",
      "Price:  \n",
      "     $6.81\n",
      "    \n",
      "\n",
      "Plant Name: \n",
      "     Cowslip\n",
      "    \n",
      "Botanical Name:  \n",
      "     Caltha palustris\n",
      "    \n",
      "Price:  \n",
      "     $9.90\n",
      "    \n",
      "\n"
     ]
    }
   ],
   "source": [
    "from bs4 import BeautifulSoup\n",
    "# Open and read the XML file\n",
    "file = open(\"C:\\\\Users\\\\hcluser1\\\\DataXML\\\\plants.xml\", \"r\")\n",
    "contents = file.read()\n",
    "# Create the BeautifulSoup Object and use the parser\n",
    "soup = BeautifulSoup(contents, 'lxml')\n",
    "# extract the contents of the common, botanical and price tags\n",
    "plant_name = soup.find_all('common')  # store the name of the plant\n",
    "scientific_name = soup.find_all('botanical')  # store the scientific name of the plant\n",
    "price = soup.find_all('price')  # store the price of the plant\n",
    "# Use a for loop along with the enumerate function that keeps count of each iteration\n",
    "for n, title in enumerate(plant_name):\n",
    "    print(\"Plant Name:\", title.text)  # print the name of the plant using text\n",
    "    print(\"Botanical Name: \", scientific_name[\n",
    "        n].text)  # use the counter to access each index of the list that stores the scientific name of the plant\n",
    "    print(\"Price: \",\n",
    "          price[n].text)  # use the counter to access each index of the list that stores the price of the plant\n",
    "    print()"
   ]
  },
  {
   "cell_type": "code",
   "execution_count": null,
   "metadata": {},
   "outputs": [],
   "source": []
  }
 ],
 "metadata": {
  "kernelspec": {
   "display_name": "Python 3",
   "language": "python",
   "name": "python3"
  },
  "language_info": {
   "codemirror_mode": {
    "name": "ipython",
    "version": 3
   },
   "file_extension": ".py",
   "mimetype": "text/x-python",
   "name": "python",
   "nbconvert_exporter": "python",
   "pygments_lexer": "ipython3",
   "version": "3.7.3"
  }
 },
 "nbformat": 4,
 "nbformat_minor": 2
}
