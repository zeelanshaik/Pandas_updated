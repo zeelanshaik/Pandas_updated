{
 "cells": [
  {
   "cell_type": "markdown",
   "metadata": {},
   "source": [
    "import the module\n",
    "\n",
    "Open a connection to the database\n",
    "\n",
    "Sending and receiving commands\n",
    "\n",
    "Closing the connection to SQL"
   ]
  },
  {
   "cell_type": "markdown",
   "metadata": {},
   "source": [
    "In order to connect Python to a database you need a driver, which is a library used to Interact with the database.\n",
    "For MySQL database, you have such 3 Driver choices:\n",
    "\n",
    "    MySQL/connector for Python\n",
    "\n",
    "    MySQLdb\n",
    "\n",
    "    PyMySQL\n",
    "\n",
    "    Driver\tDiscription\n",
    "\n",
    "    MySQL/Connector for Python\tThis is a library provided by the MySQL community.\n",
    "\n",
    "    MySQLdb\tMySQLdb is a library that connects to MySQL from Python, it is written in C language and it is free and open source software.\n",
    "\n",
    "    PyMySQL\tThis is a library that connects to MySQL from Python and it is a pure Python library. PyMySQL's goal is to replace MySQLdb and work on CPython, PyPy and IronPython.\n"
   ]
  },
  {
   "cell_type": "markdown",
   "metadata": {},
   "source": [
    "https://www.sqlalchemy.org/"
   ]
  },
  {
   "cell_type": "code",
   "execution_count": null,
   "metadata": {},
   "outputs": [],
   "source": [
    "pip install sqlalchemy\n",
    "pip install PyMySQL\n",
    "pip install mysql-connector-python"
   ]
  },
  {
   "cell_type": "markdown",
   "metadata": {},
   "source": [
    "![](pyhton_database.jpg)"
   ]
  },
  {
   "cell_type": "code",
   "execution_count": 19,
   "metadata": {},
   "outputs": [
    {
     "name": "stdout",
     "output_type": "stream",
     "text": [
      "Connection established\n",
      "Finished dropping previous table .\n",
      "Finished moving current to previous\n",
      "Finished dropping current table .\n",
      "Finished creating table.\n",
      "Inserted 1 row(s) of data.\n",
      "Inserted 1 row(s) of data.\n",
      "Inserted 1 row(s) of data.\n",
      "Inserted 1 row(s) of data.\n",
      "Inserted 1 row(s) of data.\n",
      "Inserted 1 row(s) of data.\n"
     ]
    }
   ],
   "source": [
    "import mysql.connector\n",
    "from mysql.connector import errorcode\n",
    "import pandas as pd\n",
    "\n",
    "# Obtain connection string information from the portal\n",
    "config = {\n",
    "  'host':'cloudapp.azure.com',\n",
    "  'user':'',\n",
    "  'password':'',\n",
    "  'database':''\n",
    "}\n",
    "\n",
    "# Construct connection string\n",
    "try:\n",
    "   conn = mysql.connector.connect(**config)\n",
    "   print(\"Connection established\")\n",
    "except mysql.connector.Error as err:\n",
    "  if err.errno == errorcode.ER_ACCESS_DENIED_ERROR:\n",
    "    print(\"Something is wrong with the user name or password\")\n",
    "  elif err.errno == errorcode.ER_BAD_DB_ERROR:\n",
    "    print(\"Database does not exist\")\n",
    "  else:\n",
    "    print(err)\n",
    "else:\n",
    "  cursor = conn.cursor()\n",
    "\n",
    "  # Drop previous table of same name if one exists\n",
    "  cursor.execute(\"DROP TABLE IF EXISTS z_previous_dna_dashboard1;\")\n",
    "  print(\"Finished dropping previous table .\")\n",
    "    \n",
    "  #cursor.execute(\"create table previous_dna_dashboard1 as select * from dna_dashboard1;\")\n",
    "  print(\"Finished moving current to previous\")\n",
    "     \n",
    "  # Drop previous table of same name if one exists\n",
    "  cursor.execute(\"DROP TABLE IF EXISTS z_dna_dashboard2;\")\n",
    "  print(\"Finished dropping current table .\")\n",
    "\n",
    "  # Create table\n",
    "  cursor.execute(\"CREATE TABLE z_dna_dashboard2 (id serial PRIMARY KEY, name VARCHAR(50), quantity INTEGER);\")\n",
    "  print(\"Finished creating table.\")\n",
    "\n",
    "  # Insert some data into table\n",
    "  cursor.execute(\"INSERT INTO z_dna_dashboard2 (name, quantity) VALUES (%s, %s);\", (\"banana\", 150))\n",
    "  print(\"Inserted\",cursor.rowcount,\"row(s) of data.\")\n",
    "  cursor.execute(\"INSERT INTO z_dna_dashboard2 (name, quantity) VALUES (%s, %s);\", (\"orange\", 154))\n",
    "  print(\"Inserted\",cursor.rowcount,\"row(s) of data.\")\n",
    "  cursor.execute(\"INSERT INTO z_dna_dashboard2 (name, quantity) VALUES (%s, %s);\", (\"apple\", 100))\n",
    "  print(\"Inserted\",cursor.rowcount,\"row(s) of data.\")\n",
    "  cursor.execute(\"INSERT INTO z_dna_dashboard2 (name, quantity) VALUES (%s, %s);\", (\"banana\", 151))\n",
    "  print(\"Inserted\",cursor.rowcount,\"row(s) of data.\")\n",
    "  cursor.execute(\"INSERT INTO z_dna_dashboard2 (name, quantity) VALUES (%s, %s);\", (\"orange\", 152))\n",
    "  print(\"Inserted\",cursor.rowcount,\"row(s) of data.\")\n",
    "  cursor.execute(\"INSERT INTO z_dna_dashboard2 (name, quantity) VALUES (%s, %s);\", (\"apple\", 101))\n",
    "  print(\"Inserted\",cursor.rowcount,\"row(s) of data.\")\n",
    "\n",
    "\n"
   ]
  },
  {
   "cell_type": "code",
   "execution_count": 44,
   "metadata": {},
   "outputs": [
    {
     "name": "stdout",
     "output_type": "stream",
     "text": [
      "Error while connecting to MySQL 1045 (28000): Access denied for user 'dna_user'@'52.172.0.175' (using password: YES)\n"
     ]
    }
   ],
   "source": [
    "#FETCHONE()\n",
    "import mysql.connector\n",
    "from mysql.connector import Error\n",
    "try:\n",
    "    connection = mysql.connector.connect(host='cloudapp.azure.com',\n",
    "                             database='dna_db_test',\n",
    "                             user='',\n",
    "                             password='')\n",
    "    if connection.is_connected():\n",
    "       db_Info = connection.get_server_info()\n",
    "       print(\"Connected to MySQL database... MySQL Server version on \",db_Info)\n",
    "       cursor = connection.cursor()\n",
    "       cursor.execute(\"select database();\")\n",
    "       record = cursor.fetchone()\n",
    "       print (\"Your connected to - \", record)\n",
    "except Error as e :\n",
    "    print (\"Error while connecting to MySQL\", e)\n",
    "finally:\n",
    "    #closing database connection.\n",
    "    if(connection.is_connected()):\n",
    "        cursor.close()\n",
    "        connection.close()\n",
    "        print(\"MySQL connection is closed\")"
   ]
  },
  {
   "cell_type": "code",
   "execution_count": 45,
   "metadata": {},
   "outputs": [
    {
     "name": "stdout",
     "output_type": "stream",
     "text": [
      "Something is wrong with the user name or password\n"
     ]
    }
   ],
   "source": [
    "##FETCHMANY()\n",
    "import mysql.connector\n",
    "from mysql.connector import errorcode\n",
    "\n",
    "# Obtain connection string information from the portal\n",
    "config = {\n",
    "  'host':'cloudapp.azure.com',\n",
    "  'user':'',\n",
    "  'password':'',\n",
    "  'database':'dna_db'\n",
    "}\n",
    "\n",
    "# Construct connection string\n",
    "try:\n",
    "   conn = mysql.connector.connect(**config)\n",
    "   print(\"Connection established\")\n",
    "except mysql.connector.Error as err:\n",
    "  if err.errno == errorcode.ER_ACCESS_DENIED_ERROR:\n",
    "    print(\"Something is wrong with the user name or password\")\n",
    "  elif err.errno == errorcode.ER_BAD_DB_ERROR:\n",
    "    print(\"Database does not exist\")\n",
    "  else:\n",
    "    print(err)\n",
    "else:\n",
    "  cursor = conn.cursor()\n",
    "\n",
    "  \"\"\"sql_select_Query = \"select * from inventory_prev\"\n",
    "  cursor = conn.cursor(buffered=True) #need to set buffered=True to avoid MySQL Unread result error\n",
    "  cursor.execute(sql_select_Query)\n",
    "  fetching_size = 3\n",
    "  records = cursor.fetchmany(fetching_size)\n",
    "  print(\"Total number of rows in inventory_prev is - \", cursor.rowcount)\n",
    "  print (\"Printing \", fetching_size, \" developer record using cursor.fetchmany\")\n",
    "  for row in records:\n",
    "       print (row)\"\"\"\n",
    "\n",
    "  # Drop previous table of same name if one exists\n",
    "  cursor.execute(\"DROP TABLE IF EXISTS inventory_prev;\")\n",
    "  print(\"Finished dropping previous table .\")\n",
    "    \n",
    "  cursor.execute(\"create table inventory_prev as select * from inventory;\")\n",
    "  print(\"Finished moving current to previous\")\n",
    "  \n",
    "  sql_select_Query = \"select * from inventory_prev\"\n",
    "  cursor = conn.cursor(buffered=True) #need to set buffered=True to avoid MySQL Unread result error\n",
    "  cursor.execute(sql_select_Query)\n",
    "  fetching_size = 3\n",
    "  records = cursor.fetchmany(fetching_size)\n",
    "  print(\"Total number of rows in inventory_prev is - \", cursor.rowcount)\n",
    "  print (\"Printing \", fetching_size, \" developer record using cursor.fetchmany\")\n",
    "  for row in records:\n",
    "       print (row)\n",
    "    \n",
    "  # Drop previous table of same name if one exists\n",
    "  cursor.execute(\"DROP TABLE IF EXISTS inventory;\")\n",
    "  print(\"Finished dropping current table (if existed).\")\n",
    "\n",
    "  # Create table\n",
    "  cursor.execute(\"CREATE TABLE inventory (id serial PRIMARY KEY, name VARCHAR(50), quantity INTEGER);\")\n",
    "  print(\"Finished creating table.\")\n",
    "\n",
    "  # Insert some data into table\n",
    "  cursor.execute(\"INSERT INTO inventory (name, quantity) VALUES (%s, %s);\", (\"banana\", 2000))\n",
    "  print(\"Inserted\",cursor.rowcount,\"row(s) of data.\")\n",
    "  cursor.execute(\"INSERT INTO inventory (name, quantity) VALUES (%s, %s);\", (\"orange\", 154))\n",
    "  print(\"Inserted\",cursor.rowcount,\"row(s) of data.\")\n",
    "  cursor.execute(\"INSERT INTO inventory (name, quantity) VALUES (%s, %s);\", (\"apple\", 100))\n",
    "  print(\"Inserted\",cursor.rowcount,\"row(s) of data.\")\n",
    "\n",
    "  # Cleanup\n",
    "  conn.commit()\n",
    "  cursor.close()\n",
    "  conn.close()\n",
    "  print(\"Done.\")"
   ]
  },
  {
   "cell_type": "code",
   "execution_count": 46,
   "metadata": {},
   "outputs": [
    {
     "name": "stdout",
     "output_type": "stream",
     "text": [
      "Something is wrong with the user name or password\n"
     ]
    }
   ],
   "source": [
    "\n",
    "import mysql.connector\n",
    "from mysql.connector import errorcode\n",
    "\n",
    "# Obtain connection string information from the portal\n",
    "config = {\n",
    "  'host':'cloudapp.azure.com',\n",
    "  'user':'',\n",
    "  'password':'',\n",
    "  'database':'dna_db'\n",
    "}\n",
    "\n",
    "# Construct connection string\n",
    "try:\n",
    "   conn = mysql.connector.connect(**config)\n",
    "   print(\"Connection established\")\n",
    "except mysql.connector.Error as err:\n",
    "  if err.errno == errorcode.ER_ACCESS_DENIED_ERROR:\n",
    "    print(\"Something is wrong with the user name or password\")\n",
    "  elif err.errno == errorcode.ER_BAD_DB_ERROR:\n",
    "    print(\"Database does not exist\")\n",
    "  else:\n",
    "    print(err)\n",
    "else:\n",
    "  cursor = conn.cursor()\n",
    "\n",
    "  # Drop previous table of same name if one exists\n",
    "  cursor.execute(\"DROP TABLE IF EXISTS inventory2;\")\n",
    "  print(\"Finished dropping table (if existed).\")\n",
    "\n",
    "  # Create table\n",
    "  cursor.execute(\"CREATE TABLE inventory2 (id serial PRIMARY KEY, name VARCHAR(50), quantity INTEGER);\")\n",
    "  print(\"Finished creating table.\")\n",
    "\n",
    "  # Insert some data into table\n",
    "  cursor.execute(\"INSERT INTO inventory2 (name, quantity) VALUES (%s, %s);\", (\"banana\", 150))\n",
    "  print(\"Inserted\",cursor.rowcount,\"row(s) of data.\")\n",
    "  cursor.execute(\"INSERT INTO inventory2 (name, quantity) VALUES (%s, %s);\", (\"orange\", 154))\n",
    "  print(\"Inserted\",cursor.rowcount,\"row2(s) of data.\")\n",
    "  cursor.execute(\"INSERT INTO inventory2 (name, quantity) VALUES (%s, %s);\", (\"apple\", 100))\n",
    "  print(\"Inserted\",cursor.rowcount,\"row(s) of data.\")\n",
    "\n",
    "  # Cleanup\n",
    "  conn.commit()\n",
    "  cursor.close()\n",
    "  conn.close()\n",
    "  print(\"Done.\")"
   ]
  },
  {
   "cell_type": "markdown",
   "metadata": {},
   "source": [
    "# SQLAlchemy \n",
    "is a popular SQL toolkit and Object Relational Mapper. It is written in Python and gives full power and flexibility of SQL to an application developer. It is an open source and cross-platform software released under MIT license.\n",
    "\n",
    "SQLAlchemy is famous for its object-relational mapper (ORM), using which, classes can be mapped to the database, thereby allowing the object model and database schema to develop in a cleanly decoupled way from the beginning.\n",
    "\n",
    "As size and performance of SQL databases start to matter, they behave less like object collections. On the other hand, as abstraction in object collections starts to matter, they behave less like tables and rows. SQLAlchemy aims to accommodate both of these principles."
   ]
  },
  {
   "cell_type": "code",
   "execution_count": null,
   "metadata": {},
   "outputs": [],
   "source": [
    "pip install sqlalchemy"
   ]
  },
  {
   "cell_type": "code",
   "execution_count": 23,
   "metadata": {},
   "outputs": [
    {
     "name": "stdout",
     "output_type": "stream",
     "text": [
      "OK\n"
     ]
    }
   ],
   "source": [
    "\n",
    "import pymysql.cursors\n",
    "from sqlalchemy import create_engine\n",
    "from sqlalchemy.orm import scoped_session, sessionmaker\n",
    "from sqlalchemy.ext.declarative import declarative_base\n",
    "\n",
    "# Connect to the database\n",
    "connection = pymysql.connect(host='cloudapp.azure.com',\n",
    "                             user='',\n",
    "                             password='',\n",
    "                             database='dna_db',\n",
    "                             cursorclass=pymysql.cursors.DictCursor)\n",
    "\n",
    "print (\"OK\")"
   ]
  },
  {
   "cell_type": "code",
   "execution_count": null,
   "metadata": {},
   "outputs": [],
   "source": [
    "import pandas as pd\n",
    "from sqlalchemy import create_engine\n",
    "from sqlalchemy.orm import scoped_session, sessionmaker\n",
    "from sqlalchemy.ext.declarative import declarative_base\n",
    "engine = create_engine(\"mysql://:@southindia.cloudapp.azure.com/dna_db?charset=utf8mb4\")\n",
    "con = engine.connect()"
   ]
  },
  {
   "cell_type": "markdown",
   "metadata": {},
   "source": [
    "# Mysql to DataFrame"
   ]
  },
  {
   "cell_type": "code",
   "execution_count": 28,
   "metadata": {},
   "outputs": [
    {
     "name": "stdout",
     "output_type": "stream",
     "text": [
      "   id    name  quantity\n",
      "0   1  banana      2000\n",
      "1   2  orange       154\n",
      "2   3   apple       100\n",
      "   count\n",
      "0      3\n",
      "count    int64\n",
      "dtype: object\n",
      "   count\n",
      "0      3\n"
     ]
    }
   ],
   "source": [
    "#Pandas extraction\n",
    "\n",
    "query =query = \"SELECT * from inventory\"\n",
    "\n",
    "df = pd.read_sql_query(query, engine)\n",
    "\n",
    "print(df)\n",
    "\n",
    "\n",
    "query1 = \"SELECT count(*) as count from inventory\"\n",
    "df1 = pd.read_sql_query(query1, engine)\n",
    "print(df1)\n",
    "\n",
    "print(df1.dtypes)\n",
    "\n",
    "query ='DROP TABLE IF EXISTS inventory_prev;'\n",
    "result = engine.execute(query)\n",
    "\n",
    "query =\"create table inventory_prev as select * from inventory;\"\n",
    "result = engine.execute(query)\n",
    "\n",
    "query1 = \"SELECT count(*) as count from inventory_prev\"\n",
    "df1 = pd.read_sql_query(query1, engine)\n",
    "print(df1)\n",
    "\n",
    "\n"
   ]
  },
  {
   "cell_type": "code",
   "execution_count": 26,
   "metadata": {},
   "outputs": [
    {
     "name": "stdout",
     "output_type": "stream",
     "text": [
      "Index(['id', 'name', 'quantity'], dtype='object')\n"
     ]
    }
   ],
   "source": [
    "print(df.columns)"
   ]
  },
  {
   "cell_type": "code",
   "execution_count": 27,
   "metadata": {},
   "outputs": [
    {
     "name": "stdout",
     "output_type": "stream",
     "text": [
      "   id    name  quantity\n",
      "0   1  banana      2000\n",
      "1   2  orange       154\n"
     ]
    }
   ],
   "source": [
    "print(df.head(2))"
   ]
  },
  {
   "cell_type": "code",
   "execution_count": 35,
   "metadata": {},
   "outputs": [
    {
     "data": {
      "text/html": [
       "<div>\n",
       "<style scoped>\n",
       "    .dataframe tbody tr th:only-of-type {\n",
       "        vertical-align: middle;\n",
       "    }\n",
       "\n",
       "    .dataframe tbody tr th {\n",
       "        vertical-align: top;\n",
       "    }\n",
       "\n",
       "    .dataframe thead th {\n",
       "        text-align: right;\n",
       "    }\n",
       "</style>\n",
       "<table border=\"1\" class=\"dataframe\">\n",
       "  <thead>\n",
       "    <tr style=\"text-align: right;\">\n",
       "      <th></th>\n",
       "      <th>id</th>\n",
       "      <th>name</th>\n",
       "      <th>quantity</th>\n",
       "    </tr>\n",
       "  </thead>\n",
       "  <tbody>\n",
       "    <tr>\n",
       "      <th>0</th>\n",
       "      <td>1</td>\n",
       "      <td>banana</td>\n",
       "      <td>2000</td>\n",
       "    </tr>\n",
       "    <tr>\n",
       "      <th>1</th>\n",
       "      <td>2</td>\n",
       "      <td>orange</td>\n",
       "      <td>154</td>\n",
       "    </tr>\n",
       "    <tr>\n",
       "      <th>2</th>\n",
       "      <td>3</td>\n",
       "      <td>apple</td>\n",
       "      <td>100</td>\n",
       "    </tr>\n",
       "  </tbody>\n",
       "</table>\n",
       "</div>"
      ],
      "text/plain": [
       "   id    name  quantity\n",
       "0   1  banana      2000\n",
       "1   2  orange       154\n",
       "2   3   apple       100"
      ]
     },
     "execution_count": 35,
     "metadata": {},
     "output_type": "execute_result"
    }
   ],
   "source": [
    "#SqlAlchemy extract\n",
    "import sqlalchemy as db\n",
    "import pandas as pd\n",
    "metadata = db.MetaData()\n",
    "emp = db.Table('inventory', metadata, autoload=True, autoload_with=engine)\n",
    "\n",
    "results = con.execute(db.select([emp])).fetchall()\n",
    "df = pd.DataFrame(results)\n",
    "df.columns = results[0].keys()\n",
    "df.head(4)"
   ]
  },
  {
   "cell_type": "code",
   "execution_count": 5,
   "metadata": {},
   "outputs": [
    {
     "data": {
      "text/plain": [
       "[(1, 'banana', 2000), (2, 'orange', 154), (3, 'apple', 100)]"
      ]
     },
     "execution_count": 5,
     "metadata": {},
     "output_type": "execute_result"
    }
   ],
   "source": [
    "\n",
    "\n",
    "\n",
    "\n",
    "\n",
    "\n",
    "import sqlalchemy as db\n",
    "\n",
    "metadata = db.MetaData()\n",
    "\n",
    "inventory = db.Table('inventory', metadata, autoload=True, autoload_with=engine)\n",
    "\n",
    "#Equivalent to 'SELECT * FROM inventory'\n",
    "\n",
    "query = db.select([inventory])\n",
    "\n",
    "ResultProxy = con.execute(query)\n",
    "\n",
    "ResultSet = ResultProxy.fetchall()\n",
    "\n",
    "ResultSet[:3]\n"
   ]
  },
  {
   "cell_type": "code",
   "execution_count": 31,
   "metadata": {},
   "outputs": [
    {
     "name": "stdout",
     "output_type": "stream",
     "text": [
      "   SUM(quantity)\n",
      "0         2254.0\n"
     ]
    }
   ],
   "source": [
    "\n",
    "query =query = \"SELECT SUM(quantity)FROM inventory\"\n",
    "\n",
    "df = pd.read_sql_query(query, engine)\n",
    "\n",
    "print(df)"
   ]
  },
  {
   "cell_type": "code",
   "execution_count": null,
   "metadata": {},
   "outputs": [],
   "source": [
    "SQL :\n",
    "SELECT SUM(quantity)\n",
    "FROM inventory\n",
    "\n"
   ]
  },
  {
   "cell_type": "code",
   "execution_count": 12,
   "metadata": {},
   "outputs": [],
   "source": [
    "query=db.select([db.func.sum(inventory.columns.quantity)])\n",
    "\n",
    "ResultProxy = con.execute(query)\n",
    "\n",
    "ResultSet = ResultProxy.fetchall()\n"
   ]
  },
  {
   "cell_type": "code",
   "execution_count": 15,
   "metadata": {},
   "outputs": [
    {
     "name": "stdout",
     "output_type": "stream",
     "text": [
      "[(Decimal('2254'),)]\n"
     ]
    }
   ],
   "source": [
    "print(ResultSet)"
   ]
  },
  {
   "cell_type": "code",
   "execution_count": null,
   "metadata": {},
   "outputs": [],
   "source": [
    "#To Dataframe from sql connector \n",
    "query2 = \"select name, sum(quantity) from z_dna_dashboard2 group by name\"\n",
    "cursor.execute (query2)\n",
    "#result = dict(cursor.fetchall())\n",
    "\n",
    "result = pd.DataFrame(cursor.fetchall(),columns=['Customer','Sum'])\n",
    "print(result)\n",
    "  # Cleanup\n",
    "conn.commit()\n",
    "cursor.close()\n",
    "conn.close()\n",
    "print(\"Done.\")"
   ]
  },
  {
   "cell_type": "code",
   "execution_count": 33,
   "metadata": {},
   "outputs": [
    {
     "name": "stdout",
     "output_type": "stream",
     "text": [
      "  Customer  Sum\n",
      "0   banana  301\n",
      "1   orange  306\n",
      "2    apple  201\n"
     ]
    }
   ],
   "source": [
    "print(result)"
   ]
  },
  {
   "cell_type": "code",
   "execution_count": 40,
   "metadata": {},
   "outputs": [
    {
     "name": "stdout",
     "output_type": "stream",
     "text": [
      "     name\n",
      "0  banana\n",
      "1  orange\n",
      "2   apple\n"
     ]
    }
   ],
   "source": [
    "print(result)"
   ]
  },
  {
   "cell_type": "markdown",
   "metadata": {},
   "source": [
    "# DataFrame load to Mysql"
   ]
  },
  {
   "cell_type": "code",
   "execution_count": 39,
   "metadata": {},
   "outputs": [
    {
     "name": "stdout",
     "output_type": "stream",
     "text": [
      "Created dashboard data from current \n",
      "   index    name\n",
      "0      0  banana\n",
      "1      1  orange\n",
      "2      2   apple\n"
     ]
    }
   ],
   "source": [
    "             result=df\n",
    "             print(\"Created dashboard data from current \")\n",
    "    \n",
    "             result.to_sql(name='z_dna_dashboard',con=con,if_exists='replace') #append\n",
    "        \n",
    "             query =query = \"SELECT  * from z_dna_dashboard\"\n",
    "            \n",
    "             df = pd.read_sql_query(query, engine)\n",
    "                \n",
    "             print(df)"
   ]
  },
  {
   "cell_type": "code",
   "execution_count": 9,
   "metadata": {},
   "outputs": [
    {
     "name": "stdout",
     "output_type": "stream",
     "text": [
      "Connection established\n"
     ]
    },
    {
     "ename": "NameError",
     "evalue": "name 'FTE' is not defined",
     "output_type": "error",
     "traceback": [
      "\u001b[1;31m---------------------------------------------------------------------------\u001b[0m",
      "\u001b[1;31mNameError\u001b[0m                                 Traceback (most recent call last)",
      "\u001b[1;32m<ipython-input-9-1a5116cd3097>\u001b[0m in \u001b[0;36m<module>\u001b[1;34m\u001b[0m\n\u001b[0;32m     31\u001b[0m \u001b[1;31m#result = dict(cursor.fetchall())\u001b[0m\u001b[1;33m\u001b[0m\u001b[1;33m\u001b[0m\u001b[1;33m\u001b[0m\u001b[0m\n\u001b[0;32m     32\u001b[0m \u001b[1;33m\u001b[0m\u001b[0m\n\u001b[1;32m---> 33\u001b[1;33m \u001b[0mresult\u001b[0m \u001b[1;33m=\u001b[0m \u001b[0mpd\u001b[0m\u001b[1;33m.\u001b[0m\u001b[0mDataFrame\u001b[0m\u001b[1;33m(\u001b[0m\u001b[0mcursor\u001b[0m\u001b[1;33m.\u001b[0m\u001b[0mfetchall\u001b[0m\u001b[1;33m(\u001b[0m\u001b[1;33m)\u001b[0m\u001b[1;33m,\u001b[0m\u001b[0mcolumns\u001b[0m\u001b[1;33m=\u001b[0m\u001b[1;33m[\u001b[0m\u001b[1;34m'Customer'\u001b[0m\u001b[1;33m,\u001b[0m\u001b[1;34m'Head_count'\u001b[0m\u001b[1;33m,\u001b[0m\u001b[0mFTE\u001b[0m\u001b[1;33m]\u001b[0m\u001b[1;33m)\u001b[0m\u001b[1;33m\u001b[0m\u001b[1;33m\u001b[0m\u001b[0m\n\u001b[0m\u001b[0;32m     34\u001b[0m \u001b[0mprint\u001b[0m\u001b[1;33m(\u001b[0m\u001b[0mresult\u001b[0m\u001b[1;33m)\u001b[0m\u001b[1;33m\u001b[0m\u001b[1;33m\u001b[0m\u001b[0m\n\u001b[0;32m     35\u001b[0m \u001b[1;33m\u001b[0m\u001b[0m\n",
      "\u001b[1;31mNameError\u001b[0m: name 'FTE' is not defined"
     ]
    }
   ],
   "source": [
    "import mysql.connector\n",
    "from mysql.connector import errorcode\n",
    "import pandas as pd\n",
    "\n",
    "# Obtain connection string information from the portal\n",
    "config = {\n",
    "  'host':'',\n",
    "  'user':'',\n",
    "  'password':'r',\n",
    "  'database':'dna_db'\n",
    "}\n",
    "\n",
    "# Construct connection string\n",
    "try:\n",
    "   conn = mysql.connector.connect(**config)\n",
    "   print(\"Connection established\")\n",
    "except mysql.connector.Error as err:\n",
    "  if err.errno == errorcode.ER_ACCESS_DENIED_ERROR:\n",
    "    print(\"Something is wrong with the user name or password\")\n",
    "  elif err.errno == errorcode.ER_BAD_DB_ERROR:\n",
    "    print(\"Database does not exist\")\n",
    "  else:\n",
    "    print(err)\n",
    "else:\n",
    "  cursor = conn.cursor()\n",
    "\n",
    "\n",
    "\n",
    "query2 = \"select CUSTOMER, SUM(case when band LIKE 'E%' THEN FTE ELSE 0 END) AS FTE_CNT,SUM(case when band NOT LIKE 'E%' THEN FTE ELSE 0 END) AS TP_CNT from previous_dna_dashboard GROUP BY CUSTOMER \"\n",
    "cursor.execute (query2)\n",
    "#result = dict(cursor.fetchall())\n",
    "\n",
    "result = pd.DataFrame(cursor.fetchall(),columns=['Customer','Head_count',FTE])\n",
    "print(result)\n",
    "\n",
    "  \n"
   ]
  },
  {
   "cell_type": "code",
   "execution_count": null,
   "metadata": {},
   "outputs": [],
   "source": []
  },
  {
   "cell_type": "code",
   "execution_count": 41,
   "metadata": {},
   "outputs": [
    {
     "name": "stdout",
     "output_type": "stream",
     "text": [
      "(1, 'banana', 2000)\n",
      "(2, 'orange', 154)\n",
      "(3, 'apple', 100)\n"
     ]
    }
   ],
   "source": [
    "#If you work under a Python 2.x version, the module MySQLdb can be used. It has to be installed.\n",
    "import MySQLdb as db\n",
    "\n",
    "HOST = \"\"\n",
    "PORT = 3306\n",
    "USER = \"\"\n",
    "PASSWORD = \"\"\n",
    "DB = \"dna_db\"\n",
    "\n",
    "try:\n",
    "    connection = db.Connection(host=HOST, port=PORT,\n",
    "                               user=USER, passwd=PASSWORD, db=DB)\n",
    "\n",
    "    dbhandler = connection.cursor()\n",
    "    dbhandler.execute(\"SELECT * from inventory\")\n",
    "    result = dbhandler.fetchall()\n",
    "    for item in result:\n",
    "        print (item)\n",
    "\n",
    "except Exception as e:\n",
    "    print (e)\n",
    "\n",
    "finally:\n",
    "    connection.close()"
   ]
  },
  {
   "cell_type": "code",
   "execution_count": null,
   "metadata": {},
   "outputs": [],
   "source": []
  }
 ],
 "metadata": {
  "kernelspec": {
   "display_name": "Python 3",
   "language": "python",
   "name": "python3"
  },
  "language_info": {
   "codemirror_mode": {
    "name": "ipython",
    "version": 3
   },
   "file_extension": ".py",
   "mimetype": "text/x-python",
   "name": "python",
   "nbconvert_exporter": "python",
   "pygments_lexer": "ipython3",
   "version": "3.7.3"
  }
 },
 "nbformat": 4,
 "nbformat_minor": 2
}
